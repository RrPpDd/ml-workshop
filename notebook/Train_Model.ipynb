{
 "cells": [
  {
   "cell_type": "code",
   "execution_count": 15,
   "metadata": {
    "collapsed": true
   },
   "outputs": [
    {
     "name": "stdout",
     "output_type": "stream",
     "text": [
      "Requirement already satisfied: pandas in /Users/faisalmasood/.pyenv/versions/3.7.5/lib/python3.7/site-packages (1.1.4)\r\n",
      "Requirement already satisfied: pytz>=2017.2 in /Users/faisalmasood/.pyenv/versions/3.7.5/lib/python3.7/site-packages (from pandas) (2020.1)\r\n",
      "Requirement already satisfied: python-dateutil>=2.7.3 in /Users/faisalmasood/.pyenv/versions/3.7.5/lib/python3.7/site-packages (from pandas) (2.8.1)\r\n",
      "Requirement already satisfied: numpy>=1.15.4 in /Users/faisalmasood/.pyenv/versions/3.7.5/lib/python3.7/site-packages (from pandas) (1.19.0)\r\n",
      "Requirement already satisfied: six>=1.5 in /Users/faisalmasood/.pyenv/versions/3.7.5/lib/python3.7/site-packages (from python-dateutil>=2.7.3->pandas) (1.15.0)\r\n",
      "Note: you may need to restart the kernel to use updated packages.\n",
      "Requirement already satisfied: numpy in /Users/faisalmasood/.pyenv/versions/3.7.5/lib/python3.7/site-packages (1.19.0)\r\n",
      "Note: you may need to restart the kernel to use updated packages.\n",
      "Requirement already satisfied: seaborn in /Users/faisalmasood/.pyenv/versions/3.7.5/lib/python3.7/site-packages (0.11.0)\r\n",
      "Requirement already satisfied: matplotlib>=2.2 in /Users/faisalmasood/.pyenv/versions/3.7.5/lib/python3.7/site-packages (from seaborn) (3.3.1)\r\n",
      "Requirement already satisfied: numpy>=1.15 in /Users/faisalmasood/.pyenv/versions/3.7.5/lib/python3.7/site-packages (from seaborn) (1.19.0)\r\n",
      "Requirement already satisfied: scipy>=1.0 in /Users/faisalmasood/.pyenv/versions/3.7.5/lib/python3.7/site-packages (from seaborn) (1.4.1)\r\n",
      "Requirement already satisfied: pandas>=0.23 in /Users/faisalmasood/.pyenv/versions/3.7.5/lib/python3.7/site-packages (from seaborn) (1.1.4)\r\n",
      "Requirement already satisfied: cycler>=0.10 in /Users/faisalmasood/.pyenv/versions/3.7.5/lib/python3.7/site-packages (from matplotlib>=2.2->seaborn) (0.10.0)\r\n",
      "Requirement already satisfied: numpy>=1.15 in /Users/faisalmasood/.pyenv/versions/3.7.5/lib/python3.7/site-packages (from seaborn) (1.19.0)\r\n",
      "Requirement already satisfied: kiwisolver>=1.0.1 in /Users/faisalmasood/.pyenv/versions/3.7.5/lib/python3.7/site-packages (from matplotlib>=2.2->seaborn) (1.2.0)\r\n",
      "Requirement already satisfied: certifi>=2020.06.20 in /Users/faisalmasood/.pyenv/versions/3.7.5/lib/python3.7/site-packages (from matplotlib>=2.2->seaborn) (2020.6.20)\r\n",
      "Requirement already satisfied: python-dateutil>=2.1 in /Users/faisalmasood/.pyenv/versions/3.7.5/lib/python3.7/site-packages (from matplotlib>=2.2->seaborn) (2.8.1)\r\n",
      "Requirement already satisfied: pillow>=6.2.0 in /Users/faisalmasood/.pyenv/versions/3.7.5/lib/python3.7/site-packages (from matplotlib>=2.2->seaborn) (7.2.0)\r\n",
      "Requirement already satisfied: pyparsing!=2.0.4,!=2.1.2,!=2.1.6,>=2.0.3 in /Users/faisalmasood/.pyenv/versions/3.7.5/lib/python3.7/site-packages (from matplotlib>=2.2->seaborn) (2.4.7)\r\n",
      "Requirement already satisfied: six in /Users/faisalmasood/.pyenv/versions/3.7.5/lib/python3.7/site-packages (from cycler>=0.10->matplotlib>=2.2->seaborn) (1.15.0)\r\n",
      "Requirement already satisfied: pytz>=2017.2 in /Users/faisalmasood/.pyenv/versions/3.7.5/lib/python3.7/site-packages (from pandas>=0.23->seaborn) (2020.1)\r\n",
      "Requirement already satisfied: numpy>=1.15 in /Users/faisalmasood/.pyenv/versions/3.7.5/lib/python3.7/site-packages (from seaborn) (1.19.0)\r\n",
      "Requirement already satisfied: python-dateutil>=2.1 in /Users/faisalmasood/.pyenv/versions/3.7.5/lib/python3.7/site-packages (from matplotlib>=2.2->seaborn) (2.8.1)\r\n",
      "Requirement already satisfied: six in /Users/faisalmasood/.pyenv/versions/3.7.5/lib/python3.7/site-packages (from cycler>=0.10->matplotlib>=2.2->seaborn) (1.15.0)\r\n",
      "Requirement already satisfied: numpy>=1.15 in /Users/faisalmasood/.pyenv/versions/3.7.5/lib/python3.7/site-packages (from seaborn) (1.19.0)\r\n",
      "Note: you may need to restart the kernel to use updated packages.\n",
      "Requirement already satisfied: matplotlib in /Users/faisalmasood/.pyenv/versions/3.7.5/lib/python3.7/site-packages (3.3.1)\r\n",
      "Requirement already satisfied: pyparsing!=2.0.4,!=2.1.2,!=2.1.6,>=2.0.3 in /Users/faisalmasood/.pyenv/versions/3.7.5/lib/python3.7/site-packages (from matplotlib) (2.4.7)\r\n",
      "Requirement already satisfied: cycler>=0.10 in /Users/faisalmasood/.pyenv/versions/3.7.5/lib/python3.7/site-packages (from matplotlib) (0.10.0)\r\n",
      "Requirement already satisfied: kiwisolver>=1.0.1 in /Users/faisalmasood/.pyenv/versions/3.7.5/lib/python3.7/site-packages (from matplotlib) (1.2.0)\r\n",
      "Requirement already satisfied: pillow>=6.2.0 in /Users/faisalmasood/.pyenv/versions/3.7.5/lib/python3.7/site-packages (from matplotlib) (7.2.0)\r\n",
      "Requirement already satisfied: python-dateutil>=2.1 in /Users/faisalmasood/.pyenv/versions/3.7.5/lib/python3.7/site-packages (from matplotlib) (2.8.1)\r\n",
      "Requirement already satisfied: numpy>=1.15 in /Users/faisalmasood/.pyenv/versions/3.7.5/lib/python3.7/site-packages (from matplotlib) (1.19.0)\r\n",
      "Requirement already satisfied: certifi>=2020.06.20 in /Users/faisalmasood/.pyenv/versions/3.7.5/lib/python3.7/site-packages (from matplotlib) (2020.6.20)\r\n",
      "Requirement already satisfied: six in /Users/faisalmasood/.pyenv/versions/3.7.5/lib/python3.7/site-packages (from cycler>=0.10->matplotlib) (1.15.0)\r\n",
      "Requirement already satisfied: six in /Users/faisalmasood/.pyenv/versions/3.7.5/lib/python3.7/site-packages (from cycler>=0.10->matplotlib) (1.15.0)\r\n",
      "Note: you may need to restart the kernel to use updated packages.\n",
      "Requirement already satisfied: six in /Users/faisalmasood/.pyenv/versions/3.7.5/lib/python3.7/site-packages (1.15.0)\r\n",
      "Note: you may need to restart the kernel to use updated packages.\n",
      "Requirement already satisfied: sklearn in /Users/faisalmasood/.pyenv/versions/3.7.5/lib/python3.7/site-packages (0.0)\r\n",
      "Requirement already satisfied: scikit-learn in /Users/faisalmasood/.pyenv/versions/3.7.5/lib/python3.7/site-packages (from sklearn) (0.23.2)\r\n",
      "Requirement already satisfied: scipy>=0.19.1 in /Users/faisalmasood/.pyenv/versions/3.7.5/lib/python3.7/site-packages (from scikit-learn->sklearn) (1.4.1)\r\n",
      "Requirement already satisfied: joblib>=0.11 in /Users/faisalmasood/.pyenv/versions/3.7.5/lib/python3.7/site-packages (from scikit-learn->sklearn) (0.14.1)\r\n",
      "Requirement already satisfied: numpy>=1.13.3 in /Users/faisalmasood/.pyenv/versions/3.7.5/lib/python3.7/site-packages (from scikit-learn->sklearn) (1.19.0)\r\n",
      "Requirement already satisfied: threadpoolctl>=2.0.0 in /Users/faisalmasood/.pyenv/versions/3.7.5/lib/python3.7/site-packages (from scikit-learn->sklearn) (2.1.0)\r\n",
      "Requirement already satisfied: numpy>=1.13.3 in /Users/faisalmasood/.pyenv/versions/3.7.5/lib/python3.7/site-packages (from scikit-learn->sklearn) (1.19.0)\r\n",
      "Note: you may need to restart the kernel to use updated packages.\n",
      "Requirement already satisfied: yellowbrick in /Users/faisalmasood/.pyenv/versions/3.7.5/lib/python3.7/site-packages (1.2)\r\n",
      "Requirement already satisfied: cycler>=0.10.0 in /Users/faisalmasood/.pyenv/versions/3.7.5/lib/python3.7/site-packages (from yellowbrick) (0.10.0)\r\n",
      "Requirement already satisfied: scipy>=1.0.0 in /Users/faisalmasood/.pyenv/versions/3.7.5/lib/python3.7/site-packages (from yellowbrick) (1.4.1)\r\n",
      "Requirement already satisfied: matplotlib!=3.0.0,>=2.0.2 in /Users/faisalmasood/.pyenv/versions/3.7.5/lib/python3.7/site-packages (from yellowbrick) (3.3.1)\r\n",
      "Requirement already satisfied: scikit-learn>=0.20 in /Users/faisalmasood/.pyenv/versions/3.7.5/lib/python3.7/site-packages (from yellowbrick) (0.23.2)\r\n",
      "Requirement already satisfied: numpy>=1.13.0 in /Users/faisalmasood/.pyenv/versions/3.7.5/lib/python3.7/site-packages (from yellowbrick) (1.19.0)\r\n",
      "Requirement already satisfied: six in /Users/faisalmasood/.pyenv/versions/3.7.5/lib/python3.7/site-packages (from cycler>=0.10.0->yellowbrick) (1.15.0)\r\n",
      "Requirement already satisfied: cycler>=0.10.0 in /Users/faisalmasood/.pyenv/versions/3.7.5/lib/python3.7/site-packages (from yellowbrick) (0.10.0)\r\n",
      "Requirement already satisfied: pillow>=6.2.0 in /Users/faisalmasood/.pyenv/versions/3.7.5/lib/python3.7/site-packages (from matplotlib!=3.0.0,>=2.0.2->yellowbrick) (7.2.0)\r\n",
      "Requirement already satisfied: numpy>=1.13.0 in /Users/faisalmasood/.pyenv/versions/3.7.5/lib/python3.7/site-packages (from yellowbrick) (1.19.0)\r\n",
      "Requirement already satisfied: certifi>=2020.06.20 in /Users/faisalmasood/.pyenv/versions/3.7.5/lib/python3.7/site-packages (from matplotlib!=3.0.0,>=2.0.2->yellowbrick) (2020.6.20)\r\n",
      "Requirement already satisfied: python-dateutil>=2.1 in /Users/faisalmasood/.pyenv/versions/3.7.5/lib/python3.7/site-packages (from matplotlib!=3.0.0,>=2.0.2->yellowbrick) (2.8.1)\r\n",
      "Requirement already satisfied: pyparsing!=2.0.4,!=2.1.2,!=2.1.6,>=2.0.3 in /Users/faisalmasood/.pyenv/versions/3.7.5/lib/python3.7/site-packages (from matplotlib!=3.0.0,>=2.0.2->yellowbrick) (2.4.7)\r\n",
      "Requirement already satisfied: kiwisolver>=1.0.1 in /Users/faisalmasood/.pyenv/versions/3.7.5/lib/python3.7/site-packages (from matplotlib!=3.0.0,>=2.0.2->yellowbrick) (1.2.0)\r\n",
      "Requirement already satisfied: six in /Users/faisalmasood/.pyenv/versions/3.7.5/lib/python3.7/site-packages (from cycler>=0.10.0->yellowbrick) (1.15.0)\r\n",
      "Requirement already satisfied: numpy>=1.13.0 in /Users/faisalmasood/.pyenv/versions/3.7.5/lib/python3.7/site-packages (from yellowbrick) (1.19.0)\r\n",
      "Requirement already satisfied: scipy>=1.0.0 in /Users/faisalmasood/.pyenv/versions/3.7.5/lib/python3.7/site-packages (from yellowbrick) (1.4.1)\r\n",
      "Requirement already satisfied: joblib>=0.11 in /Users/faisalmasood/.pyenv/versions/3.7.5/lib/python3.7/site-packages (from scikit-learn>=0.20->yellowbrick) (0.14.1)\r\n",
      "Requirement already satisfied: threadpoolctl>=2.0.0 in /Users/faisalmasood/.pyenv/versions/3.7.5/lib/python3.7/site-packages (from scikit-learn>=0.20->yellowbrick) (2.1.0)\r\n",
      "Requirement already satisfied: numpy>=1.13.0 in /Users/faisalmasood/.pyenv/versions/3.7.5/lib/python3.7/site-packages (from yellowbrick) (1.19.0)\r\n",
      "Note: you may need to restart the kernel to use updated packages.\n",
      "Requirement already satisfied: pydotplus in /Users/faisalmasood/.pyenv/versions/3.7.5/lib/python3.7/site-packages (2.0.2)\r\n",
      "Requirement already satisfied: pyparsing>=2.0.1 in /Users/faisalmasood/.pyenv/versions/3.7.5/lib/python3.7/site-packages (from pydotplus) (2.4.7)\r\n",
      "Note: you may need to restart the kernel to use updated packages.\n",
      "Requirement already satisfied: graphviz in /Users/faisalmasood/.pyenv/versions/3.7.5/lib/python3.7/site-packages (0.15)\r\n",
      "Note: you may need to restart the kernel to use updated packages.\n",
      "Requirement already satisfied: verta in /Users/faisalmasood/.pyenv/versions/3.7.5/lib/python3.7/site-packages (0.15.6)\r\n",
      "Requirement already satisfied: pyyaml>=5.1 in /Users/faisalmasood/.pyenv/versions/3.7.5/lib/python3.7/site-packages (from verta) (5.3.1)\r\n",
      "Requirement already satisfied: pathlib2>=2.2 in /Users/faisalmasood/.pyenv/versions/3.7.5/lib/python3.7/site-packages (from verta) (2.3.5)\r\n",
      "Requirement already satisfied: requests<3.0,>=2.21 in /Users/faisalmasood/.pyenv/versions/3.7.5/lib/python3.7/site-packages (from verta) (2.24.0)\r\n",
      "Requirement already satisfied: googleapis-common-protos>=1.5 in /Users/faisalmasood/.pyenv/versions/3.7.5/lib/python3.7/site-packages (from verta) (1.52.0)\r\n",
      "Requirement already satisfied: cloudpickle in /Users/faisalmasood/.pyenv/versions/3.7.5/lib/python3.7/site-packages (from verta) (1.5.0)\r\n",
      "Requirement already satisfied: click in /Users/faisalmasood/.pyenv/versions/3.7.5/lib/python3.7/site-packages (from verta) (7.1.2)\r\n",
      "Requirement already satisfied: protobuf>=3.8 in /Users/faisalmasood/.pyenv/versions/3.7.5/lib/python3.7/site-packages (from verta) (3.12.2)\r\n",
      "Requirement already satisfied: protobuf>=3.8 in /Users/faisalmasood/.pyenv/versions/3.7.5/lib/python3.7/site-packages (from verta) (3.12.2)\r\n",
      "Requirement already satisfied: six in /Users/faisalmasood/.pyenv/versions/3.7.5/lib/python3.7/site-packages (from pathlib2>=2.2->verta) (1.15.0)\r\n",
      "Requirement already satisfied: six in /Users/faisalmasood/.pyenv/versions/3.7.5/lib/python3.7/site-packages (from pathlib2>=2.2->verta) (1.15.0)\r\n",
      "Requirement already satisfied: setuptools in /Users/faisalmasood/.pyenv/versions/3.7.5/lib/python3.7/site-packages (from protobuf>=3.8->verta) (41.2.0)\r\n",
      "Requirement already satisfied: certifi>=2017.4.17 in /Users/faisalmasood/.pyenv/versions/3.7.5/lib/python3.7/site-packages (from requests<3.0,>=2.21->verta) (2020.6.20)\r\n",
      "Requirement already satisfied: urllib3!=1.25.0,!=1.25.1,<1.26,>=1.21.1 in /Users/faisalmasood/.pyenv/versions/3.7.5/lib/python3.7/site-packages (from requests<3.0,>=2.21->verta) (1.25.9)\r\n",
      "Requirement already satisfied: idna<3,>=2.5 in /Users/faisalmasood/.pyenv/versions/3.7.5/lib/python3.7/site-packages (from requests<3.0,>=2.21->verta) (2.10)\r\n",
      "Requirement already satisfied: chardet<4,>=3.0.2 in /Users/faisalmasood/.pyenv/versions/3.7.5/lib/python3.7/site-packages (from requests<3.0,>=2.21->verta) (3.0.4)\r\n",
      "Note: you may need to restart the kernel to use updated packages.\n",
      "Requirement already satisfied: Minio in /Users/faisalmasood/.pyenv/versions/3.7.5/lib/python3.7/site-packages (6.0.0)\r\n",
      "Requirement already satisfied: configparser in /Users/faisalmasood/.pyenv/versions/3.7.5/lib/python3.7/site-packages (from Minio) (5.0.1)\r\n",
      "Requirement already satisfied: urllib3 in /Users/faisalmasood/.pyenv/versions/3.7.5/lib/python3.7/site-packages (from Minio) (1.25.9)\r\n",
      "Requirement already satisfied: pytz in /Users/faisalmasood/.pyenv/versions/3.7.5/lib/python3.7/site-packages (from Minio) (2020.1)\r\n",
      "Requirement already satisfied: certifi in /Users/faisalmasood/.pyenv/versions/3.7.5/lib/python3.7/site-packages (from Minio) (2020.6.20)\r\n",
      "Requirement already satisfied: python-dateutil in /Users/faisalmasood/.pyenv/versions/3.7.5/lib/python3.7/site-packages (from Minio) (2.8.1)\r\n",
      "Requirement already satisfied: six>=1.5 in /Users/faisalmasood/.pyenv/versions/3.7.5/lib/python3.7/site-packages (from python-dateutil->Minio) (1.15.0)\r\n",
      "Note: you may need to restart the kernel to use updated packages.\n",
      "Requirement already satisfied: category_encoders in /Users/faisalmasood/.pyenv/versions/3.7.5/lib/python3.7/site-packages (2.2.2)\r\n",
      "Requirement already satisfied: statsmodels>=0.9.0 in /Users/faisalmasood/.pyenv/versions/3.7.5/lib/python3.7/site-packages (from category_encoders) (0.12.0)\r\n",
      "Requirement already satisfied: numpy>=1.14.0 in /Users/faisalmasood/.pyenv/versions/3.7.5/lib/python3.7/site-packages (from category_encoders) (1.19.0)\r\n",
      "Requirement already satisfied: scikit-learn>=0.20.0 in /Users/faisalmasood/.pyenv/versions/3.7.5/lib/python3.7/site-packages (from category_encoders) (0.23.2)\r\n",
      "Requirement already satisfied: patsy>=0.5.1 in /Users/faisalmasood/.pyenv/versions/3.7.5/lib/python3.7/site-packages (from category_encoders) (0.5.1)\r\n",
      "Requirement already satisfied: pandas>=0.21.1 in /Users/faisalmasood/.pyenv/versions/3.7.5/lib/python3.7/site-packages (from category_encoders) (1.1.4)\r\n",
      "Requirement already satisfied: scipy>=1.0.0 in /Users/faisalmasood/.pyenv/versions/3.7.5/lib/python3.7/site-packages (from category_encoders) (1.4.1)\r\n",
      "Requirement already satisfied: pytz>=2017.2 in /Users/faisalmasood/.pyenv/versions/3.7.5/lib/python3.7/site-packages (from pandas>=0.21.1->category_encoders) (2020.1)\r\n",
      "Requirement already satisfied: python-dateutil>=2.7.3 in /Users/faisalmasood/.pyenv/versions/3.7.5/lib/python3.7/site-packages (from pandas>=0.21.1->category_encoders) (2.8.1)\r\n",
      "Requirement already satisfied: numpy>=1.14.0 in /Users/faisalmasood/.pyenv/versions/3.7.5/lib/python3.7/site-packages (from category_encoders) (1.19.0)\r\n",
      "Requirement already satisfied: six in /Users/faisalmasood/.pyenv/versions/3.7.5/lib/python3.7/site-packages (from patsy>=0.5.1->category_encoders) (1.15.0)\r\n",
      "Requirement already satisfied: numpy>=1.14.0 in /Users/faisalmasood/.pyenv/versions/3.7.5/lib/python3.7/site-packages (from category_encoders) (1.19.0)\r\n",
      "Requirement already satisfied: six in /Users/faisalmasood/.pyenv/versions/3.7.5/lib/python3.7/site-packages (from patsy>=0.5.1->category_encoders) (1.15.0)\r\n",
      "Requirement already satisfied: numpy>=1.14.0 in /Users/faisalmasood/.pyenv/versions/3.7.5/lib/python3.7/site-packages (from category_encoders) (1.19.0)\r\n",
      "Requirement already satisfied: joblib>=0.11 in /Users/faisalmasood/.pyenv/versions/3.7.5/lib/python3.7/site-packages (from scikit-learn>=0.20.0->category_encoders) (0.14.1)\r\n",
      "Requirement already satisfied: scipy>=1.0.0 in /Users/faisalmasood/.pyenv/versions/3.7.5/lib/python3.7/site-packages (from category_encoders) (1.4.1)\r\n",
      "Requirement already satisfied: threadpoolctl>=2.0.0 in /Users/faisalmasood/.pyenv/versions/3.7.5/lib/python3.7/site-packages (from scikit-learn>=0.20.0->category_encoders) (2.1.0)\r\n",
      "Requirement already satisfied: numpy>=1.14.0 in /Users/faisalmasood/.pyenv/versions/3.7.5/lib/python3.7/site-packages (from category_encoders) (1.19.0)\r\n",
      "Requirement already satisfied: numpy>=1.14.0 in /Users/faisalmasood/.pyenv/versions/3.7.5/lib/python3.7/site-packages (from category_encoders) (1.19.0)\r\n",
      "Requirement already satisfied: patsy>=0.5.1 in /Users/faisalmasood/.pyenv/versions/3.7.5/lib/python3.7/site-packages (from category_encoders) (0.5.1)\r\n",
      "Requirement already satisfied: scipy>=1.0.0 in /Users/faisalmasood/.pyenv/versions/3.7.5/lib/python3.7/site-packages (from category_encoders) (1.4.1)\r\n",
      "Requirement already satisfied: pandas>=0.21.1 in /Users/faisalmasood/.pyenv/versions/3.7.5/lib/python3.7/site-packages (from category_encoders) (1.1.4)\r\n",
      "Note: you may need to restart the kernel to use updated packages.\n"
     ]
    }
   ],
   "source": [
    "%pip install pandas\n",
    "%pip install numpy\n",
    "%pip install seaborn\n",
    "%pip install matplotlib\n",
    "%pip install six\n",
    "%pip install sklearn\n",
    "%pip install yellowbrick\n",
    "%pip install pydotplus\n",
    "%pip install graphviz\n",
    "%pip install verta\n",
    "%pip install Minio\n",
    "%pip install category_encoders\n",
    "# %pip install modin[ray]\n",
    "%pip install boto3\n",
    "%pip install alibi\n",
    "%pip install dill"
   ]
  },
  {
   "cell_type": "code",
   "execution_count": 41,
   "outputs": [],
   "source": [
    "import os\n",
    "import dill\n",
    "\n",
    "import verta.integrations.sklearn\n",
    "from alibi.explainers import AnchorTabular\n",
    "# os.environ[\"MODIN_ENGINE\"] = \"ray\"\n"
   ],
   "metadata": {
    "collapsed": false,
    "pycharm": {
     "name": "#%%\n"
    }
   }
  },
  {
   "cell_type": "code",
   "execution_count": 42,
   "outputs": [
    {
     "name": "stdout",
     "output_type": "stream",
     "text": [
      "The watermark extension is already loaded. To reload it, use:\n",
      "  %reload_ext watermark\n"
     ]
    }
   ],
   "source": [
    "import matplotlib\n",
    "import matplotlib.pyplot as plt\n",
    "\n",
    "import numpy as np\n",
    "# import pandas as pd\n",
    "# import modin.pandas as pd\n",
    "from datetime import datetime\n",
    "import watermark\n",
    "import numpy as np\n",
    "import pandas as pd\n",
    "import seaborn as sns\n",
    "import matplotlib.pyplot as plt\n",
    "from sklearn.preprocessing import LabelEncoder\n",
    "from sklearn.model_selection import train_test_split\n",
    "from sklearn.model_selection import GridSearchCV\n",
    "from sklearn.model_selection import KFold\n",
    "from sklearn import model_selection\n",
    "from sklearn.tree import DecisionTreeClassifier\n",
    "from sklearn.ensemble import RandomForestClassifier\n",
    "\n",
    "from minio import Minio\n",
    "from verta import Client\n",
    "from minio.error import ResponseError\n",
    "import os\n",
    "from sklearn.preprocessing import OneHotEncoder\n",
    "\n",
    "from sklearn.pipeline import Pipeline\n",
    "\n",
    "\n",
    "# import tools as tools\n",
    "%matplotlib inline\n",
    "%load_ext watermark"
   ],
   "metadata": {
    "collapsed": false,
    "pycharm": {
     "name": "#%%\n"
    }
   }
  },
  {
   "cell_type": "code",
   "execution_count": 43,
   "outputs": [
    {
     "name": "stdout",
     "output_type": "stream",
     "text": [
      "Python implementation: CPython\n",
      "Python version       : 3.7.5\n",
      "IPython version      : 7.16.1\n",
      "\n",
      "Compiler    : Clang 11.0.3 (clang-1103.0.32.62)\n",
      "OS          : Darwin\n",
      "Release     : 20.2.0\n",
      "Machine     : x86_64\n",
      "Processor   : i386\n",
      "CPU cores   : 8\n",
      "Architecture: 64bit\n",
      "\n",
      "Git hash: 2ddb6706e28be8b55a0456a8da905ef012b46a7e\n",
      "\n",
      "seaborn          : 0.11.0\n",
      "sys              : 3.7.5 (default, Jul  7 2020, 21:09:45) \n",
      "[Clang 11.0.3 (clang-1103.0.32.62)]\n",
      "matplotlib       : 3.3.1\n",
      "watermark        : 2.1.0\n",
      "joblib           : 0.14.1\n",
      "sklearn          : 0.0\n",
      "pandas           : 1.1.4\n",
      "category_encoders: 2.2.2\n",
      "numpy            : 1.19.0\n",
      "\n"
     ]
    }
   ],
   "source": [
    "%watermark -n -v -m -g -iv\n"
   ],
   "metadata": {
    "collapsed": false,
    "pycharm": {
     "name": "#%%\n"
    }
   }
  },
  {
   "cell_type": "code",
   "execution_count": 44,
   "outputs": [],
   "source": [
    "dateTimeObj = datetime.now()\n",
    "timestampStr = dateTimeObj.strftime(\"%d%Y%H%M%S%f\")\n",
    "experiment_name = \"CustomerChurn\"\n",
    "experiment_id = experiment_name + timestampStr\n",
    "\n",
    "\n",
    "def get_s3_server():\n",
    "    minioClient = Minio('minio-ml-workshop:9000',\n",
    "                    access_key='minio',\n",
    "                    secret_key='minio123',\n",
    "                    secure=False)\n",
    "\n",
    "    return minioClient\n",
    "\n",
    "def get_verta():\n",
    "    client = Client(\"http://v1-webapp:3000\")\n",
    "    return client\n",
    "\n",
    "def get_meta_store():\n",
    "    client = get_verta()\n",
    "    proj = client.set_project(\"ml-workshop\")\n",
    "    client.set_experiment(experiment_id)\n",
    "    run = client.set_experiment_run(experiment_name)\n",
    "    return run\n",
    "\n",
    "\n"
   ],
   "metadata": {
    "collapsed": false,
    "pycharm": {
     "name": "#%%\n"
    }
   }
  },
  {
   "cell_type": "code",
   "execution_count": 45,
   "outputs": [
    {
     "data": {
      "text/plain": "   customerID  gender  SeniorCitizen Partner Dependents  tenure PhoneService  \\\n0  7590-VHVEG  Female              0     Yes         No       1           No   \n1  5575-GNVDE    Male              0      No         No      34          Yes   \n2  3668-QPYBK    Male              0      No         No       2          Yes   \n3  7795-CFOCW    Male              0      No         No      45           No   \n4  9237-HQITU  Female              0      No         No       2          Yes   \n\n      MultipleLines InternetService OnlineSecurity  ... DeviceProtection  \\\n0  No phone service             DSL             No  ...               No   \n1                No             DSL            Yes  ...              Yes   \n2                No             DSL            Yes  ...               No   \n3  No phone service             DSL            Yes  ...              Yes   \n4                No     Fiber optic             No  ...               No   \n\n  TechSupport StreamingTV StreamingMovies        Contract PaperlessBilling  \\\n0          No          No              No  Month-to-month              Yes   \n1          No          No              No        One year               No   \n2          No          No              No  Month-to-month              Yes   \n3         Yes          No              No        One year               No   \n4          No          No              No  Month-to-month              Yes   \n\n               PaymentMethod MonthlyCharges  TotalCharges Churn  \n0           Electronic check          29.85         29.85    No  \n1               Mailed check          56.95        1889.5    No  \n2               Mailed check          53.85        108.15   Yes  \n3  Bank transfer (automatic)          42.30       1840.75    No  \n4           Electronic check          70.70        151.65   Yes  \n\n[5 rows x 21 columns]",
      "text/html": "<div>\n<style scoped>\n    .dataframe tbody tr th:only-of-type {\n        vertical-align: middle;\n    }\n\n    .dataframe tbody tr th {\n        vertical-align: top;\n    }\n\n    .dataframe thead th {\n        text-align: right;\n    }\n</style>\n<table border=\"1\" class=\"dataframe\">\n  <thead>\n    <tr style=\"text-align: right;\">\n      <th></th>\n      <th>customerID</th>\n      <th>gender</th>\n      <th>SeniorCitizen</th>\n      <th>Partner</th>\n      <th>Dependents</th>\n      <th>tenure</th>\n      <th>PhoneService</th>\n      <th>MultipleLines</th>\n      <th>InternetService</th>\n      <th>OnlineSecurity</th>\n      <th>...</th>\n      <th>DeviceProtection</th>\n      <th>TechSupport</th>\n      <th>StreamingTV</th>\n      <th>StreamingMovies</th>\n      <th>Contract</th>\n      <th>PaperlessBilling</th>\n      <th>PaymentMethod</th>\n      <th>MonthlyCharges</th>\n      <th>TotalCharges</th>\n      <th>Churn</th>\n    </tr>\n  </thead>\n  <tbody>\n    <tr>\n      <th>0</th>\n      <td>7590-VHVEG</td>\n      <td>Female</td>\n      <td>0</td>\n      <td>Yes</td>\n      <td>No</td>\n      <td>1</td>\n      <td>No</td>\n      <td>No phone service</td>\n      <td>DSL</td>\n      <td>No</td>\n      <td>...</td>\n      <td>No</td>\n      <td>No</td>\n      <td>No</td>\n      <td>No</td>\n      <td>Month-to-month</td>\n      <td>Yes</td>\n      <td>Electronic check</td>\n      <td>29.85</td>\n      <td>29.85</td>\n      <td>No</td>\n    </tr>\n    <tr>\n      <th>1</th>\n      <td>5575-GNVDE</td>\n      <td>Male</td>\n      <td>0</td>\n      <td>No</td>\n      <td>No</td>\n      <td>34</td>\n      <td>Yes</td>\n      <td>No</td>\n      <td>DSL</td>\n      <td>Yes</td>\n      <td>...</td>\n      <td>Yes</td>\n      <td>No</td>\n      <td>No</td>\n      <td>No</td>\n      <td>One year</td>\n      <td>No</td>\n      <td>Mailed check</td>\n      <td>56.95</td>\n      <td>1889.5</td>\n      <td>No</td>\n    </tr>\n    <tr>\n      <th>2</th>\n      <td>3668-QPYBK</td>\n      <td>Male</td>\n      <td>0</td>\n      <td>No</td>\n      <td>No</td>\n      <td>2</td>\n      <td>Yes</td>\n      <td>No</td>\n      <td>DSL</td>\n      <td>Yes</td>\n      <td>...</td>\n      <td>No</td>\n      <td>No</td>\n      <td>No</td>\n      <td>No</td>\n      <td>Month-to-month</td>\n      <td>Yes</td>\n      <td>Mailed check</td>\n      <td>53.85</td>\n      <td>108.15</td>\n      <td>Yes</td>\n    </tr>\n    <tr>\n      <th>3</th>\n      <td>7795-CFOCW</td>\n      <td>Male</td>\n      <td>0</td>\n      <td>No</td>\n      <td>No</td>\n      <td>45</td>\n      <td>No</td>\n      <td>No phone service</td>\n      <td>DSL</td>\n      <td>Yes</td>\n      <td>...</td>\n      <td>Yes</td>\n      <td>Yes</td>\n      <td>No</td>\n      <td>No</td>\n      <td>One year</td>\n      <td>No</td>\n      <td>Bank transfer (automatic)</td>\n      <td>42.30</td>\n      <td>1840.75</td>\n      <td>No</td>\n    </tr>\n    <tr>\n      <th>4</th>\n      <td>9237-HQITU</td>\n      <td>Female</td>\n      <td>0</td>\n      <td>No</td>\n      <td>No</td>\n      <td>2</td>\n      <td>Yes</td>\n      <td>No</td>\n      <td>Fiber optic</td>\n      <td>No</td>\n      <td>...</td>\n      <td>No</td>\n      <td>No</td>\n      <td>No</td>\n      <td>No</td>\n      <td>Month-to-month</td>\n      <td>Yes</td>\n      <td>Electronic check</td>\n      <td>70.70</td>\n      <td>151.65</td>\n      <td>Yes</td>\n    </tr>\n  </tbody>\n</table>\n<p>5 rows × 21 columns</p>\n</div>"
     },
     "execution_count": 45,
     "metadata": {},
     "output_type": "execute_result"
    }
   ],
   "source": [
    "minioClient = get_s3_server()\n",
    "data_file = minioClient.fget_object(\"data\", \"full_data_csv/part-00000-2cb57be2-5467-47a5-a556-a70a886afe03-c000.csv\", \"/tmp/data.csv\")\n",
    "data_file_version = data_file.version_id\n",
    "data = pd.read_csv('/tmp/data.csv')\n",
    "data.head(5)\n",
    "\n"
   ],
   "metadata": {
    "collapsed": false,
    "pycharm": {
     "name": "#%%\n"
    }
   }
  },
  {
   "cell_type": "code",
   "execution_count": 46,
   "outputs": [
    {
     "data": {
      "text/plain": "(7043, 21)"
     },
     "execution_count": 46,
     "metadata": {},
     "output_type": "execute_result"
    }
   ],
   "source": [
    "# data.shape"
   ],
   "metadata": {
    "collapsed": false,
    "pycharm": {
     "name": "#%%\n"
    }
   }
  },
  {
   "cell_type": "code",
   "execution_count": 47,
   "outputs": [
    {
     "name": "stdout",
     "output_type": "stream",
     "text": [
      "<class 'pandas.core.frame.DataFrame'>\n",
      "RangeIndex: 7043 entries, 0 to 7042\n",
      "Data columns (total 21 columns):\n",
      " #   Column            Non-Null Count  Dtype  \n",
      "---  ------            --------------  -----  \n",
      " 0   customerID        7043 non-null   object \n",
      " 1   gender            7043 non-null   object \n",
      " 2   SeniorCitizen     7043 non-null   int64  \n",
      " 3   Partner           7043 non-null   object \n",
      " 4   Dependents        7043 non-null   object \n",
      " 5   tenure            7043 non-null   int64  \n",
      " 6   PhoneService      7043 non-null   object \n",
      " 7   MultipleLines     7043 non-null   object \n",
      " 8   InternetService   7043 non-null   object \n",
      " 9   OnlineSecurity    7043 non-null   object \n",
      " 10  OnlineBackup      7043 non-null   object \n",
      " 11  DeviceProtection  7043 non-null   object \n",
      " 12  TechSupport       7043 non-null   object \n",
      " 13  StreamingTV       7043 non-null   object \n",
      " 14  StreamingMovies   7043 non-null   object \n",
      " 15  Contract          7043 non-null   object \n",
      " 16  PaperlessBilling  7043 non-null   object \n",
      " 17  PaymentMethod     7043 non-null   object \n",
      " 18  MonthlyCharges    7043 non-null   float64\n",
      " 19  TotalCharges      7043 non-null   object \n",
      " 20  Churn             7043 non-null   object \n",
      "dtypes: float64(1), int64(2), object(18)\n",
      "memory usage: 1.1+ MB\n"
     ]
    }
   ],
   "source": [
    "# data.info()"
   ],
   "metadata": {
    "collapsed": false,
    "pycharm": {
     "name": "#%%\n"
    }
   }
  },
  {
   "cell_type": "code",
   "execution_count": 48,
   "outputs": [
    {
     "data": {
      "text/plain": "       SeniorCitizen       tenure  MonthlyCharges\ncount    7043.000000  7043.000000     7043.000000\nmean        0.162147    32.371149       64.761692\nstd         0.368612    24.559481       30.090047\nmin         0.000000     0.000000       18.250000\n25%         0.000000     9.000000       35.500000\n50%         0.000000    29.000000       70.350000\n75%         0.000000    55.000000       89.850000\nmax         1.000000    72.000000      118.750000",
      "text/html": "<div>\n<style scoped>\n    .dataframe tbody tr th:only-of-type {\n        vertical-align: middle;\n    }\n\n    .dataframe tbody tr th {\n        vertical-align: top;\n    }\n\n    .dataframe thead th {\n        text-align: right;\n    }\n</style>\n<table border=\"1\" class=\"dataframe\">\n  <thead>\n    <tr style=\"text-align: right;\">\n      <th></th>\n      <th>SeniorCitizen</th>\n      <th>tenure</th>\n      <th>MonthlyCharges</th>\n    </tr>\n  </thead>\n  <tbody>\n    <tr>\n      <th>count</th>\n      <td>7043.000000</td>\n      <td>7043.000000</td>\n      <td>7043.000000</td>\n    </tr>\n    <tr>\n      <th>mean</th>\n      <td>0.162147</td>\n      <td>32.371149</td>\n      <td>64.761692</td>\n    </tr>\n    <tr>\n      <th>std</th>\n      <td>0.368612</td>\n      <td>24.559481</td>\n      <td>30.090047</td>\n    </tr>\n    <tr>\n      <th>min</th>\n      <td>0.000000</td>\n      <td>0.000000</td>\n      <td>18.250000</td>\n    </tr>\n    <tr>\n      <th>25%</th>\n      <td>0.000000</td>\n      <td>9.000000</td>\n      <td>35.500000</td>\n    </tr>\n    <tr>\n      <th>50%</th>\n      <td>0.000000</td>\n      <td>29.000000</td>\n      <td>70.350000</td>\n    </tr>\n    <tr>\n      <th>75%</th>\n      <td>0.000000</td>\n      <td>55.000000</td>\n      <td>89.850000</td>\n    </tr>\n    <tr>\n      <th>max</th>\n      <td>1.000000</td>\n      <td>72.000000</td>\n      <td>118.750000</td>\n    </tr>\n  </tbody>\n</table>\n</div>"
     },
     "execution_count": 48,
     "metadata": {},
     "output_type": "execute_result"
    }
   ],
   "source": [
    "# data.describe()"
   ],
   "metadata": {
    "collapsed": false,
    "pycharm": {
     "name": "#%%\n"
    }
   }
  },
  {
   "cell_type": "code",
   "execution_count": 49,
   "outputs": [
    {
     "data": {
      "text/plain": "customerID          0\ngender              0\nSeniorCitizen       0\nPartner             0\nDependents          0\ntenure              0\nPhoneService        0\nMultipleLines       0\nInternetService     0\nOnlineSecurity      0\nOnlineBackup        0\nDeviceProtection    0\nTechSupport         0\nStreamingTV         0\nStreamingMovies     0\nContract            0\nPaperlessBilling    0\nPaymentMethod       0\nMonthlyCharges      0\nTotalCharges        0\nChurn               0\ndtype: int64"
     },
     "execution_count": 49,
     "metadata": {},
     "output_type": "execute_result"
    }
   ],
   "source": [
    "# data.isnull().sum()"
   ],
   "metadata": {
    "collapsed": false,
    "pycharm": {
     "name": "#%%\n"
    }
   }
  },
  {
   "cell_type": "code",
   "execution_count": 51,
   "outputs": [],
   "source": [
    "# Convert binary variable into numeric so plotting is easier. We need to later take mean\n",
    "data['Churn'] = data['Churn'].map({'Yes': 1, 'No': 0})"
   ],
   "metadata": {
    "collapsed": false,
    "pycharm": {
     "name": "#%%\n"
    }
   }
  },
  {
   "cell_type": "code",
   "execution_count": 53,
   "outputs": [],
   "source": [
    "data.replace(\" \", np.nan, inplace=True)"
   ],
   "metadata": {
    "collapsed": false,
    "pycharm": {
     "name": "#%%\n"
    }
   }
  },
  {
   "cell_type": "code",
   "execution_count": 54,
   "outputs": [
    {
     "data": {
      "text/plain": "customerID           0\ngender               0\nSeniorCitizen        0\nPartner              0\nDependents           0\ntenure               0\nPhoneService         0\nMultipleLines        0\nInternetService      0\nOnlineSecurity       0\nOnlineBackup         0\nDeviceProtection     0\nTechSupport          0\nStreamingTV          0\nStreamingMovies      0\nContract             0\nPaperlessBilling     0\nPaymentMethod        0\nMonthlyCharges       0\nTotalCharges        11\nChurn                0\ndtype: int64"
     },
     "execution_count": 54,
     "metadata": {},
     "output_type": "execute_result"
    }
   ],
   "source": [
    "# data.isna().sum()"
   ],
   "metadata": {
    "collapsed": false,
    "pycharm": {
     "name": "#%%\n"
    }
   }
  },
  {
   "cell_type": "code",
   "execution_count": 55,
   "outputs": [],
   "source": [
    "data['TotalCharges'] = pd.to_numeric(data['TotalCharges'])"
   ],
   "metadata": {
    "collapsed": false,
    "pycharm": {
     "name": "#%%\n"
    }
   }
  },
  {
   "cell_type": "code",
   "execution_count": 56,
   "outputs": [
    {
     "data": {
      "text/plain": "customerID          0\ngender              0\nSeniorCitizen       0\nPartner             0\nDependents          0\ntenure              0\nPhoneService        0\nMultipleLines       0\nInternetService     0\nOnlineSecurity      0\nOnlineBackup        0\nDeviceProtection    0\nTechSupport         0\nStreamingTV         0\nStreamingMovies     0\nContract            0\nPaperlessBilling    0\nPaymentMethod       0\nMonthlyCharges      0\nTotalCharges        0\nChurn               0\ndtype: int64"
     },
     "execution_count": 56,
     "metadata": {},
     "output_type": "execute_result"
    }
   ],
   "source": [
    "mean = data['TotalCharges'].mean()\n",
    "data.fillna(mean, inplace=True)\n",
    "# Now we know that total charges has nan values\n",
    "data.isna().sum()\n",
    "\n"
   ],
   "metadata": {
    "collapsed": false,
    "pycharm": {
     "name": "#%%\n"
    }
   }
  },
  {
   "cell_type": "code",
   "execution_count": 59,
   "outputs": [
    {
     "name": "stderr",
     "output_type": "stream",
     "text": [
      "FutureWarning: is_categorical is deprecated and will be removed in a future version.  Use is_categorical_dtype instead\n"
     ]
    },
    {
     "data": {
      "text/plain": "      customerID  gender  SeniorCitizen  Partner  Dependents  tenure  \\\n7038  6840-RESVB       2              0        1           2      24   \n7039  2234-XADUH       1              0        1           2      72   \n7040  4801-JZAZL       1              0        1           2      11   \n7041  8361-LTMKD       2              1        1           1       4   \n7042  3186-AJIEK       2              0        2           1      66   \n\n      PhoneService     MultipleLines InternetService OnlineSecurity  ...  \\\n7038             2               Yes             DSL            Yes  ...   \n7039             2               Yes     Fiber optic             No  ...   \n7040             1  No phone service             DSL            Yes  ...   \n7041             2               Yes     Fiber optic             No  ...   \n7042             2                No     Fiber optic            Yes  ...   \n\n     DeviceProtection TechSupport StreamingTV  StreamingMovies  \\\n7038              Yes         Yes           2                2   \n7039              Yes          No           2                2   \n7040               No          No           1                1   \n7041               No          No           1                1   \n7042              Yes         Yes           2                2   \n\n            Contract PaperlessBilling              PaymentMethod  \\\n7038        One year                1               Mailed check   \n7039        One year                1    Credit card (automatic)   \n7040  Month-to-month                1           Electronic check   \n7041  Month-to-month                1               Mailed check   \n7042        Two year                1  Bank transfer (automatic)   \n\n     MonthlyCharges  TotalCharges  Churn  \n7038          84.80       1990.50      1  \n7039         103.20       7362.90      1  \n7040          29.60        346.45      1  \n7041          74.40        306.60      2  \n7042         105.65       6844.50      1  \n\n[5 rows x 21 columns]",
      "text/html": "<div>\n<style scoped>\n    .dataframe tbody tr th:only-of-type {\n        vertical-align: middle;\n    }\n\n    .dataframe tbody tr th {\n        vertical-align: top;\n    }\n\n    .dataframe thead th {\n        text-align: right;\n    }\n</style>\n<table border=\"1\" class=\"dataframe\">\n  <thead>\n    <tr style=\"text-align: right;\">\n      <th></th>\n      <th>customerID</th>\n      <th>gender</th>\n      <th>SeniorCitizen</th>\n      <th>Partner</th>\n      <th>Dependents</th>\n      <th>tenure</th>\n      <th>PhoneService</th>\n      <th>MultipleLines</th>\n      <th>InternetService</th>\n      <th>OnlineSecurity</th>\n      <th>...</th>\n      <th>DeviceProtection</th>\n      <th>TechSupport</th>\n      <th>StreamingTV</th>\n      <th>StreamingMovies</th>\n      <th>Contract</th>\n      <th>PaperlessBilling</th>\n      <th>PaymentMethod</th>\n      <th>MonthlyCharges</th>\n      <th>TotalCharges</th>\n      <th>Churn</th>\n    </tr>\n  </thead>\n  <tbody>\n    <tr>\n      <th>7038</th>\n      <td>6840-RESVB</td>\n      <td>2</td>\n      <td>0</td>\n      <td>1</td>\n      <td>2</td>\n      <td>24</td>\n      <td>2</td>\n      <td>Yes</td>\n      <td>DSL</td>\n      <td>Yes</td>\n      <td>...</td>\n      <td>Yes</td>\n      <td>Yes</td>\n      <td>2</td>\n      <td>2</td>\n      <td>One year</td>\n      <td>1</td>\n      <td>Mailed check</td>\n      <td>84.80</td>\n      <td>1990.50</td>\n      <td>1</td>\n    </tr>\n    <tr>\n      <th>7039</th>\n      <td>2234-XADUH</td>\n      <td>1</td>\n      <td>0</td>\n      <td>1</td>\n      <td>2</td>\n      <td>72</td>\n      <td>2</td>\n      <td>Yes</td>\n      <td>Fiber optic</td>\n      <td>No</td>\n      <td>...</td>\n      <td>Yes</td>\n      <td>No</td>\n      <td>2</td>\n      <td>2</td>\n      <td>One year</td>\n      <td>1</td>\n      <td>Credit card (automatic)</td>\n      <td>103.20</td>\n      <td>7362.90</td>\n      <td>1</td>\n    </tr>\n    <tr>\n      <th>7040</th>\n      <td>4801-JZAZL</td>\n      <td>1</td>\n      <td>0</td>\n      <td>1</td>\n      <td>2</td>\n      <td>11</td>\n      <td>1</td>\n      <td>No phone service</td>\n      <td>DSL</td>\n      <td>Yes</td>\n      <td>...</td>\n      <td>No</td>\n      <td>No</td>\n      <td>1</td>\n      <td>1</td>\n      <td>Month-to-month</td>\n      <td>1</td>\n      <td>Electronic check</td>\n      <td>29.60</td>\n      <td>346.45</td>\n      <td>1</td>\n    </tr>\n    <tr>\n      <th>7041</th>\n      <td>8361-LTMKD</td>\n      <td>2</td>\n      <td>1</td>\n      <td>1</td>\n      <td>1</td>\n      <td>4</td>\n      <td>2</td>\n      <td>Yes</td>\n      <td>Fiber optic</td>\n      <td>No</td>\n      <td>...</td>\n      <td>No</td>\n      <td>No</td>\n      <td>1</td>\n      <td>1</td>\n      <td>Month-to-month</td>\n      <td>1</td>\n      <td>Mailed check</td>\n      <td>74.40</td>\n      <td>306.60</td>\n      <td>2</td>\n    </tr>\n    <tr>\n      <th>7042</th>\n      <td>3186-AJIEK</td>\n      <td>2</td>\n      <td>0</td>\n      <td>2</td>\n      <td>1</td>\n      <td>66</td>\n      <td>2</td>\n      <td>No</td>\n      <td>Fiber optic</td>\n      <td>Yes</td>\n      <td>...</td>\n      <td>Yes</td>\n      <td>Yes</td>\n      <td>2</td>\n      <td>2</td>\n      <td>Two year</td>\n      <td>1</td>\n      <td>Bank transfer (automatic)</td>\n      <td>105.65</td>\n      <td>6844.50</td>\n      <td>1</td>\n    </tr>\n  </tbody>\n</table>\n<p>5 rows × 21 columns</p>\n</div>"
     },
     "execution_count": 59,
     "metadata": {},
     "output_type": "execute_result"
    }
   ],
   "source": [
    "import category_encoders as ce\n",
    "import joblib\n",
    "\n",
    "names = ['gender', 'Partner', 'Dependents', 'PhoneService', 'StreamingTV', 'StreamingMovies', 'PaperlessBilling', 'Churn']\n",
    "# for column in names:\n",
    "#     labelencoder(column)\n",
    "\n",
    "enc = ce.ordinal.OrdinalEncoder(cols=names)\n",
    "enc.fit(data)\n",
    "joblib.dump(enc, 'CustomerChurnOrdinalEncoder.pkl')\n",
    "labelled_set = enc.transform(data)\n",
    "labelled_set.tail(5)"
   ],
   "metadata": {
    "collapsed": false,
    "pycharm": {
     "name": "#%%\n"
    }
   }
  },
  {
   "cell_type": "code",
   "execution_count": 66,
   "outputs": [
    {
     "name": "stderr",
     "output_type": "stream",
     "text": [
      "FutureWarning: is_categorical is deprecated and will be removed in a future version.  Use is_categorical_dtype instead\n"
     ]
    },
    {
     "data": {
      "text/plain": "      customerID  gender  SeniorCitizen  Partner  Dependents  tenure  \\\n7038  6840-RESVB       2              0        1           2      24   \n7039  2234-XADUH       1              0        1           2      72   \n7040  4801-JZAZL       1              0        1           2      11   \n7041  8361-LTMKD       2              1        1           1       4   \n7042  3186-AJIEK       2              0        2           1      66   \n\n      PhoneService  MultipleLines_1  MultipleLines_2  MultipleLines_3  ...  \\\n7038             2                0                0                1  ...   \n7039             2                0                0                1  ...   \n7040             1                1                0                0  ...   \n7041             2                0                0                1  ...   \n7042             2                0                1                0  ...   \n\n      Contract_2  Contract_3  PaperlessBilling  PaymentMethod_1  \\\n7038           1           0                 1                0   \n7039           1           0                 1                0   \n7040           0           0                 1                1   \n7041           0           0                 1                0   \n7042           0           1                 1                0   \n\n      PaymentMethod_2  PaymentMethod_3  PaymentMethod_4  MonthlyCharges  \\\n7038                1                0                0           84.80   \n7039                0                0                1          103.20   \n7040                0                0                0           29.60   \n7041                1                0                0           74.40   \n7042                0                1                0          105.65   \n\n      TotalCharges  Churn  \n7038       1990.50      1  \n7039       7362.90      1  \n7040        346.45      1  \n7041        306.60      2  \n7042       6844.50      1  \n\n[5 rows x 38 columns]",
      "text/html": "<div>\n<style scoped>\n    .dataframe tbody tr th:only-of-type {\n        vertical-align: middle;\n    }\n\n    .dataframe tbody tr th {\n        vertical-align: top;\n    }\n\n    .dataframe thead th {\n        text-align: right;\n    }\n</style>\n<table border=\"1\" class=\"dataframe\">\n  <thead>\n    <tr style=\"text-align: right;\">\n      <th></th>\n      <th>customerID</th>\n      <th>gender</th>\n      <th>SeniorCitizen</th>\n      <th>Partner</th>\n      <th>Dependents</th>\n      <th>tenure</th>\n      <th>PhoneService</th>\n      <th>MultipleLines_1</th>\n      <th>MultipleLines_2</th>\n      <th>MultipleLines_3</th>\n      <th>...</th>\n      <th>Contract_2</th>\n      <th>Contract_3</th>\n      <th>PaperlessBilling</th>\n      <th>PaymentMethod_1</th>\n      <th>PaymentMethod_2</th>\n      <th>PaymentMethod_3</th>\n      <th>PaymentMethod_4</th>\n      <th>MonthlyCharges</th>\n      <th>TotalCharges</th>\n      <th>Churn</th>\n    </tr>\n  </thead>\n  <tbody>\n    <tr>\n      <th>7038</th>\n      <td>6840-RESVB</td>\n      <td>2</td>\n      <td>0</td>\n      <td>1</td>\n      <td>2</td>\n      <td>24</td>\n      <td>2</td>\n      <td>0</td>\n      <td>0</td>\n      <td>1</td>\n      <td>...</td>\n      <td>1</td>\n      <td>0</td>\n      <td>1</td>\n      <td>0</td>\n      <td>1</td>\n      <td>0</td>\n      <td>0</td>\n      <td>84.80</td>\n      <td>1990.50</td>\n      <td>1</td>\n    </tr>\n    <tr>\n      <th>7039</th>\n      <td>2234-XADUH</td>\n      <td>1</td>\n      <td>0</td>\n      <td>1</td>\n      <td>2</td>\n      <td>72</td>\n      <td>2</td>\n      <td>0</td>\n      <td>0</td>\n      <td>1</td>\n      <td>...</td>\n      <td>1</td>\n      <td>0</td>\n      <td>1</td>\n      <td>0</td>\n      <td>0</td>\n      <td>0</td>\n      <td>1</td>\n      <td>103.20</td>\n      <td>7362.90</td>\n      <td>1</td>\n    </tr>\n    <tr>\n      <th>7040</th>\n      <td>4801-JZAZL</td>\n      <td>1</td>\n      <td>0</td>\n      <td>1</td>\n      <td>2</td>\n      <td>11</td>\n      <td>1</td>\n      <td>1</td>\n      <td>0</td>\n      <td>0</td>\n      <td>...</td>\n      <td>0</td>\n      <td>0</td>\n      <td>1</td>\n      <td>1</td>\n      <td>0</td>\n      <td>0</td>\n      <td>0</td>\n      <td>29.60</td>\n      <td>346.45</td>\n      <td>1</td>\n    </tr>\n    <tr>\n      <th>7041</th>\n      <td>8361-LTMKD</td>\n      <td>2</td>\n      <td>1</td>\n      <td>1</td>\n      <td>1</td>\n      <td>4</td>\n      <td>2</td>\n      <td>0</td>\n      <td>0</td>\n      <td>1</td>\n      <td>...</td>\n      <td>0</td>\n      <td>0</td>\n      <td>1</td>\n      <td>0</td>\n      <td>1</td>\n      <td>0</td>\n      <td>0</td>\n      <td>74.40</td>\n      <td>306.60</td>\n      <td>2</td>\n    </tr>\n    <tr>\n      <th>7042</th>\n      <td>3186-AJIEK</td>\n      <td>2</td>\n      <td>0</td>\n      <td>2</td>\n      <td>1</td>\n      <td>66</td>\n      <td>2</td>\n      <td>0</td>\n      <td>1</td>\n      <td>0</td>\n      <td>...</td>\n      <td>0</td>\n      <td>1</td>\n      <td>1</td>\n      <td>0</td>\n      <td>0</td>\n      <td>1</td>\n      <td>0</td>\n      <td>105.65</td>\n      <td>6844.50</td>\n      <td>1</td>\n    </tr>\n  </tbody>\n</table>\n<p>5 rows × 38 columns</p>\n</div>"
     },
     "execution_count": 66,
     "metadata": {},
     "output_type": "execute_result"
    }
   ],
   "source": [
    "\n",
    "names = ['MultipleLines', 'InternetService', 'Contract', 'PaymentMethod', 'OnlineSecurity', 'OnlineBackup',\n",
    "         'DeviceProtection', 'TechSupport']\n",
    "\n",
    "ohe = ce.OneHotEncoder(cols=names)\n",
    "ohe.fit(labelled_set)\n",
    "joblib.dump(ohe, 'CustomerChurnOneHotEncoder.pkl')\n",
    "final_set = ohe.transform(labelled_set)\n",
    "final_set.tail(5)"
   ],
   "metadata": {
    "collapsed": false,
    "pycharm": {
     "name": "#%%\n"
    }
   }
  },
  {
   "cell_type": "code",
   "execution_count": 61,
   "outputs": [],
   "source": [],
   "metadata": {
    "collapsed": false,
    "pycharm": {
     "name": "#%%\n"
    }
   }
  },
  {
   "cell_type": "code",
   "execution_count": 69,
   "outputs": [
    {
     "name": "stdout",
     "output_type": "stream",
     "text": [
      "Training Data Shape (5634, 36) (5634,)\n",
      "Testing Data Shape (1409, 36) (1409,)\n"
     ]
    }
   ],
   "source": [
    "labels = final_set['Churn']\n",
    "X_train, X_test, y_train, y_test = train_test_split(final_set, labels, test_size=0.2)\n",
    "X_train.pop('Churn')\n",
    "X_train.pop('customerID')\n",
    "X_test.pop('Churn')\n",
    "X_test.pop('customerID')\n",
    "print ('Training Data Shape',X_train.shape, y_train.shape)\n",
    "print ('Testing Data Shape',X_test.shape, y_test.shape)"
   ],
   "metadata": {
    "collapsed": false,
    "pycharm": {
     "name": "#%%\n"
    }
   }
  },
  {
   "cell_type": "code",
   "execution_count": 70,
   "outputs": [
    {
     "name": "stdout",
     "output_type": "stream",
     "text": [
      "Training Data Shape (7043, 36)\n",
      "Testing Data Shape (7043,)\n"
     ]
    }
   ],
   "source": [
    "\n",
    "# Data For cross validation and GridSearch\n",
    "Y = final_set['Churn']\n",
    "X = final_set.drop(['Churn', 'customerID'], axis=1)\n",
    "# print ('Training Data Shape', X.shape)\n",
    "# print ('Testing Data Shape', Y.shape)\n",
    "\n"
   ],
   "metadata": {
    "collapsed": false,
    "pycharm": {
     "name": "#%%\n"
    }
   }
  },
  {
   "cell_type": "code",
   "execution_count": 74,
   "outputs": [
    {
     "name": "stdout",
     "output_type": "stream",
     "text": [
      "[0.79897785 0.7955707  0.79037069]\n",
      "Accuracy 79.49730793137397\n"
     ]
    }
   ],
   "source": [],
   "metadata": {
    "collapsed": false,
    "pycharm": {
     "name": "#%%\n"
    }
   }
  },
  {
   "cell_type": "code",
   "execution_count": null,
   "outputs": [],
   "source": [
    "def train_and_save_model():\n",
    "    kfold = KFold(n_splits = 3)\n",
    "    model = DecisionTreeClassifier(max_depth=5, criterion='gini',min_samples_leaf = 3 ,min_samples_split = 10)\n",
    "    store = get_meta_store()\n",
    "    model = model.fit(X_train, y_train, run=store)\n",
    "    joblib.dump(model, 'CustomerChurnPredictor.sav')\n",
    "    results = model_selection.cross_val_score(model,X,Y,cv = kfold)\n",
    "    print(results)\n",
    "    print('Accuracy',results.mean()*100)\n",
    "\n",
    "    store.log_model(model)\n",
    "    store.log_metric('Accuracy',results.mean()*100)\n",
    "    store.log_tag(\"DecisionTreeClassifier\")\n",
    "    store.log_attribute(\"data_file_location\", \"data/full_data_csv/a.csv\")\n",
    "    store.log_tag(\"data_file_version\", data_file_version)\n",
    "\n",
    "    # get_meta_store().log_dataset_version(\"raw_data\", dataset_version)\n",
    "    return model"
   ],
   "metadata": {
    "collapsed": false,
    "pycharm": {
     "name": "#%%\n"
    }
   }
  },
  {
   "cell_type": "code",
   "execution_count": 75,
   "outputs": [],
   "source": [
    "from alibi.utils.data import gen_category_map\n",
    "\n",
    "def explain_model(model, X_train, X_test_record):\n",
    "    fnames = X_train.columns.tolist()\n",
    "    category_map = gen_category_map(X_train)\n",
    "    predict_fn = lambda x: model.predict_proba(x)\n",
    "    explainer = AnchorTabular(predict_fn, fnames, category_map)\n",
    "    explainer.fit(X_train.values, disc_perc=[25, 50, 75])\n",
    "    explanation = explainer.explain(X_test_record.values[1], threshold=0.80)\n",
    "    print('Anchor: %s' % explanation['anchor'])\n",
    "    print('Precision: %.2f' % explanation['precision'])\n",
    "    print('Coverage: %.2f' % explanation['coverage'])\n",
    "    return explainer"
   ],
   "metadata": {
    "collapsed": false,
    "pycharm": {
     "name": "#%%\n"
    }
   }
  },
  {
   "cell_type": "code",
   "execution_count": 1,
   "outputs": [
    {
     "name": "stdout",
     "output_type": "stream",
     "text": [
      "Loading iris data set...\n"
     ]
    },
    {
     "ename": "NameError",
     "evalue": "name 'datasets' is not defined",
     "output_type": "error",
     "traceback": [
      "\u001B[0;31m---------------------------------------------------------------------------\u001B[0m",
      "\u001B[0;31mNameError\u001B[0m                                 Traceback (most recent call last)",
      "\u001B[0;32m<ipython-input-1-bcaca5ea13c1>\u001B[0m in \u001B[0;36m<module>\u001B[0;34m\u001B[0m\n\u001B[1;32m      1\u001B[0m \u001B[0;31m# if __name__ == \"__main__\":\u001B[0m\u001B[0;34m\u001B[0m\u001B[0;34m\u001B[0m\u001B[0;34m\u001B[0m\u001B[0m\n\u001B[1;32m      2\u001B[0m \u001B[0mprint\u001B[0m\u001B[0;34m(\u001B[0m\u001B[0;34m'Loading iris data set...'\u001B[0m\u001B[0;34m)\u001B[0m\u001B[0;34m\u001B[0m\u001B[0;34m\u001B[0m\u001B[0m\n\u001B[0;32m----> 3\u001B[0;31m \u001B[0miris\u001B[0m \u001B[0;34m=\u001B[0m \u001B[0mdatasets\u001B[0m\u001B[0;34m.\u001B[0m\u001B[0mload_iris\u001B[0m\u001B[0;34m(\u001B[0m\u001B[0;34m)\u001B[0m\u001B[0;34m\u001B[0m\u001B[0;34m\u001B[0m\u001B[0m\n\u001B[0m\u001B[1;32m      4\u001B[0m \u001B[0mfeature_names\u001B[0m \u001B[0;34m=\u001B[0m \u001B[0miris\u001B[0m\u001B[0;34m.\u001B[0m\u001B[0mfeature_names\u001B[0m\u001B[0;34m\u001B[0m\u001B[0;34m\u001B[0m\u001B[0m\n\u001B[1;32m      5\u001B[0m \u001B[0mX\u001B[0m\u001B[0;34m,\u001B[0m \u001B[0my\u001B[0m \u001B[0;34m=\u001B[0m \u001B[0miris\u001B[0m\u001B[0;34m.\u001B[0m\u001B[0mdata\u001B[0m\u001B[0;34m,\u001B[0m \u001B[0miris\u001B[0m\u001B[0;34m.\u001B[0m\u001B[0mtarget\u001B[0m\u001B[0;34m\u001B[0m\u001B[0;34m\u001B[0m\u001B[0m\n",
      "\u001B[0;31mNameError\u001B[0m: name 'datasets' is not defined"
     ]
    }
   ],
   "source": [
    "model = train_and_save_model()\n",
    "explainer = explain_model(model, X_train, X_test)\n",
    "with open(\"CustomerChurnPredictorAlibi.dill\", \"wb\") as x_f:\n",
    "    dill.dump(explainer, x_f)"
   ],
   "metadata": {
    "collapsed": false,
    "pycharm": {
     "name": "#%%\n"
    }
   }
  },
  {
   "cell_type": "code",
   "execution_count": null,
   "outputs": [],
   "source": [
    "minioClient = get_s3_server()\n",
    "minioClient.fput_object(bucket_name='models', object_name=experiment_id  +'/CustomerChurnPredictor.sav' , file_path='./CustomerChurnPredictor.sav')\n",
    "minioClient.fput_object(bucket_name='models', object_name=experiment_id  +'/CustomerChurnPredictorAlibi.dill' , file_path='./CustomerChurnPredictorAlibi.dill')\n",
    "minioClient.fput_object(bucket_name='models', object_name=experiment_id  +'/CustomerChurnOrdinalEncoder.pkl' , file_path='./CustomerChurnOrdinalEncoder.pkl')\n",
    "minioClient.fput_object(bucket_name='models', object_name=experiment_id  +'/CustomerChurnOneHotEncoder.pkl' , file_path='./CustomerChurnOneHotEncoder.pkl')\n"
   ],
   "metadata": {
    "collapsed": false,
    "pycharm": {
     "name": "#%%\n"
    }
   }
  }
 ],
 "metadata": {
  "kernelspec": {
   "display_name": "Python 3",
   "language": "python",
   "name": "python3"
  },
  "language_info": {
   "codemirror_mode": {
    "name": "ipython",
    "version": 2
   },
   "file_extension": ".py",
   "mimetype": "text/x-python",
   "name": "python",
   "nbconvert_exporter": "python",
   "pygments_lexer": "ipython2",
   "version": "2.7.6"
  }
 },
 "nbformat": 4,
 "nbformat_minor": 0
}