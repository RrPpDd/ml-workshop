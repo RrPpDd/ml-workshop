{
 "cells": [
  {
   "cell_type": "code",
   "execution_count": 1,
   "metadata": {
    "ExecuteTime": {
     "end_time": "2020-10-13T10:17:28.589229Z",
     "start_time": "2020-10-13T10:17:27.203284Z"
    }
   },
   "outputs": [
    {
     "name": "stdout",
     "output_type": "stream",
     "text": [
      "Requirement already up-to-date: scikit-learn in /Users/faisalmasood/.pyenv/versions/3.7.5/lib/python3.7/site-packages (0.23.2)\n",
      "Requirement already satisfied, skipping upgrade: joblib>=0.11 in /Users/faisalmasood/.pyenv/versions/3.7.5/lib/python3.7/site-packages (from scikit-learn) (0.14.1)\n",
      "Requirement already satisfied, skipping upgrade: numpy>=1.13.3 in /Users/faisalmasood/.pyenv/versions/3.7.5/lib/python3.7/site-packages (from scikit-learn) (1.19.0)\n",
      "Requirement already satisfied, skipping upgrade: scipy>=0.19.1 in /Users/faisalmasood/.pyenv/versions/3.7.5/lib/python3.7/site-packages (from scikit-learn) (1.4.1)\n",
      "Requirement already satisfied, skipping upgrade: threadpoolctl>=2.0.0 in /Users/faisalmasood/.pyenv/versions/3.7.5/lib/python3.7/site-packages (from scikit-learn) (2.1.0)\n"
     ]
    }
   ],
   "source": [
    "!pip install -U scikit-learn"
   ]
  },
  {
   "cell_type": "code",
   "execution_count": 3,
   "metadata": {
    "ExecuteTime": {
     "end_time": "2020-10-13T10:18:38.007596Z",
     "start_time": "2020-10-13T10:18:37.986198Z"
    }
   },
   "outputs": [],
   "source": [
    "import numpy as np\n",
    "import os\n",
    "from sklearn.linear_model import LogisticRegression\n",
    "from sklearn.pipeline import Pipeline\n",
    "import joblib\n",
    "from sklearn import datasets\n",
    "from sklearn.model_selection import train_test_split\n",
    "from sklearn.metrics import accuracy_score\n",
    "from datetime import datetime"
   ]
  },
  {
   "cell_type": "code",
   "execution_count": 14,
   "metadata": {
    "ExecuteTime": {
     "end_time": "2020-10-13T10:19:10.929339Z",
     "start_time": "2020-10-13T10:19:10.925683Z"
    }
   },
   "outputs": [],
   "source": [
    "def main():\n",
    "    model = LogisticRegression()\n",
    "    print('Training model...')\n",
    "    model.fit(X1, y1)\n",
    "    print('Model trained!')\n",
    "    \n",
    "    result = model.score(X2, y2)\n",
    "    print(\"Accuracy: %.2f%%\" % (result*100.0))    \n",
    "\n",
    "    filename_p = 'IrisClassifier.sav'\n",
    "    print('Saving model in %s' % filename_p)\n",
    "    joblib.dump(model, filename_p)\n",
    "    print('Model saved!')"
   ]
  },
  {
   "cell_type": "code",
   "execution_count": 16,
   "metadata": {
    "ExecuteTime": {
     "end_time": "2020-10-13T10:19:20.178463Z",
     "start_time": "2020-10-13T10:19:20.137783Z"
    }
   },
   "outputs": [
    {
     "name": "stdout",
     "output_type": "stream",
     "text": [
      "Loading iris data set...\n",
      "Dataset loaded!\n",
      "Training model...\n",
      "Model trained!\n",
      "Accuracy: 91.67%\n",
      "Saving model in IrisClassifier.sav\n",
      "Model saved!\n"
     ]
    }
   ],
   "source": [
    "if __name__ == \"__main__\":\n",
    "    print('Loading iris data set...')\n",
    "    iris = datasets.load_iris()\n",
    "    X, y = iris.data, iris.target\n",
    "    X1, X2, y1, y2 = train_test_split(X, y, random_state=0, train_size=0.6)\n",
    "    print('Dataset loaded!')\n",
    "    main()"
   ]
  },
  {
   "cell_type": "code",
   "execution_count": 11,
   "metadata": {
    "ExecuteTime": {
     "end_time": "2020-10-13T10:28:10.722888Z",
     "start_time": "2020-10-13T10:28:09.214916Z"
    }
   },
   "outputs": [
    {
     "name": "stdout",
     "output_type": "stream",
     "text": [
      "Collecting Minio\n",
      "  Downloading minio-6.0.0-py2.py3-none-any.whl (72 kB)\n",
      "\u001b[K     |████████████████████████████████| 72 kB 7.8 MB/s eta 0:00:011\n",
      "\u001b[?25hCollecting configparser\n",
      "  Downloading configparser-5.0.1-py3-none-any.whl (22 kB)\n",
      "Requirement already satisfied: certifi in /opt/app-root/lib/python3.6/site-packages (from Minio) (2020.4.5.1)\n",
      "Requirement already satisfied: pytz in /opt/app-root/lib/python3.6/site-packages (from Minio) (2020.1)\n",
      "Requirement already satisfied: urllib3 in /opt/app-root/lib/python3.6/site-packages (from Minio) (1.25.9)\n",
      "Requirement already satisfied: python-dateutil in /opt/app-root/lib/python3.6/site-packages (from Minio) (2.8.1)\n",
      "Requirement already satisfied: six>=1.5 in /opt/app-root/lib/python3.6/site-packages (from python-dateutil->Minio) (1.14.0)\n",
      "Installing collected packages: configparser, Minio\n",
      "Successfully installed Minio-6.0.0 configparser-5.0.1\n",
      "\u001b[33mWARNING: You are using pip version 20.1.1; however, version 20.2.3 is available.\n",
      "You should consider upgrading via the '/opt/app-root/bin/python3.6 -m pip install --upgrade pip' command.\u001b[0m\n"
     ]
    }
   ],
   "source": [
    "!pip install Minio"
   ]
  },
  {
   "cell_type": "code",
   "execution_count": 15,
   "metadata": {
    "ExecuteTime": {
     "end_time": "2020-10-13T10:33:11.952140Z",
     "start_time": "2020-10-13T10:33:11.939597Z"
    }
   },
   "outputs": [
    {
     "data": {
      "text/plain": [
       "('9ff21724e1efb84b0d1af93c3c590110', None)"
      ]
     },
     "execution_count": 15,
     "metadata": {},
     "output_type": "execute_result"
    }
   ],
   "source": [
    "from minio import Minio\n",
    "from minio.error import ResponseError\n",
    "\n",
    "def get_s3_server():\n",
    "    minioClient = Minio('minio-ml-workshop:9000',\n",
    "                    access_key='minio',\n",
    "                    secret_key='minio123',\n",
    "                    secure=False)\n",
    "\n",
    "    return minioClient\n",
    "\n",
    "minioClient = get_s3_server()\n",
    "# minioClient.fput_object(bucket_name='models', object_name='model.joblib' , file_path='./IrisClassifier.sav')\n",
    "dateTimeObj = datetime.now()\n",
    "timestampStr = dateTimeObj.strftime(\"%d%b%Y%H%M%S%f\")\n",
    "experiment_id = 'IrisScikit' + timestampStr\n",
    "minioClient.fput_object(bucket_name='models', object_name=experiment_id  +'/IrisClassifier.sav' , file_path='./IrisClassifier.sav')"
   ]
  },
  {
   "cell_type": "code",
   "execution_count": null,
   "metadata": {},
   "outputs": [],
   "source": []
  }
 ],
 "metadata": {
  "kernelspec": {
   "display_name": "Python 3",
   "language": "python",
   "name": "python3"
  },
  "language_info": {
   "codemirror_mode": {
    "name": "ipython",
    "version": 3
   },
   "file_extension": ".py",
   "mimetype": "text/x-python",
   "name": "python",
   "nbconvert_exporter": "python",
   "pygments_lexer": "ipython3",
   "version": "3.7.5"
  },
  "toc": {
   "base_numbering": 1,
   "nav_menu": {},
   "number_sections": true,
   "sideBar": true,
   "skip_h1_title": false,
   "title_cell": "Table of Contents",
   "title_sidebar": "Contents",
   "toc_cell": false,
   "toc_position": {},
   "toc_section_display": true,
   "toc_window_display": false
  }
 },
 "nbformat": 4,
 "nbformat_minor": 4
}