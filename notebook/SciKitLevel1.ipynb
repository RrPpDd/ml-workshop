{
 "cells": [
  {
   "cell_type": "code",
   "execution_count": 14,
   "metadata": {
    "ExecuteTime": {
     "end_time": "2020-10-29T10:09:21.980825Z",
     "start_time": "2020-10-29T10:09:13.830655Z"
    }
   },
   "outputs": [
    {
     "name": "stdout",
     "output_type": "stream",
     "text": [
      "Requirement already up-to-date: scikit-learn in /opt/app-root/lib/python3.6/site-packages (0.23.2)\n",
      "Requirement already satisfied, skipping upgrade: joblib>=0.11 in /opt/app-root/lib/python3.6/site-packages (from scikit-learn) (0.16.0)\n",
      "Requirement already satisfied, skipping upgrade: numpy>=1.13.3 in /opt/app-root/lib/python3.6/site-packages (from scikit-learn) (1.19.1)\n",
      "Requirement already satisfied, skipping upgrade: threadpoolctl>=2.0.0 in /opt/app-root/lib/python3.6/site-packages (from scikit-learn) (2.1.0)\n",
      "Requirement already satisfied, skipping upgrade: scipy>=0.19.1 in /opt/app-root/lib/python3.6/site-packages (from scikit-learn) (1.5.2)\n",
      "\u001b[33mWARNING: You are using pip version 20.2; however, version 20.2.4 is available.\n",
      "You should consider upgrading via the '/opt/app-root/bin/python3.6 -m pip install --upgrade pip' command.\u001b[0m\n",
      "Requirement already satisfied: verta in /opt/app-root/lib/python3.6/site-packages (0.15.6)\n",
      "Requirement already satisfied: googleapis-common-protos>=1.5 in /opt/app-root/lib/python3.6/site-packages (from verta) (1.52.0)\n",
      "Requirement already satisfied: requests<3.0,>=2.21 in /opt/app-root/lib/python3.6/site-packages (from verta) (2.23.0)\n",
      "Requirement already satisfied: protobuf>=3.8 in /opt/app-root/lib/python3.6/site-packages (from verta) (3.13.0)\n",
      "Requirement already satisfied: pathlib2>=2.2 in /opt/app-root/lib/python3.6/site-packages (from verta) (2.3.5)\n",
      "Requirement already satisfied: pyyaml>=5.1 in /opt/app-root/lib/python3.6/site-packages (from verta) (5.3.1)\n",
      "Requirement already satisfied: click in /opt/app-root/lib/python3.6/site-packages (from verta) (7.1.2)\n",
      "Requirement already satisfied: cloudpickle in /opt/app-root/lib/python3.6/site-packages (from verta) (1.5.0)\n",
      "Requirement already satisfied: urllib3!=1.25.0,!=1.25.1,<1.26,>=1.21.1 in /opt/app-root/lib/python3.6/site-packages (from requests<3.0,>=2.21->verta) (1.25.10)\n",
      "Requirement already satisfied: certifi>=2017.4.17 in /opt/app-root/lib/python3.6/site-packages (from requests<3.0,>=2.21->verta) (2020.4.5.1)\n",
      "Requirement already satisfied: idna<3,>=2.5 in /opt/app-root/lib/python3.6/site-packages (from requests<3.0,>=2.21->verta) (2.9)\n",
      "Requirement already satisfied: chardet<4,>=3.0.2 in /opt/app-root/lib/python3.6/site-packages (from requests<3.0,>=2.21->verta) (3.0.4)\n",
      "Requirement already satisfied: setuptools in /opt/app-root/lib/python3.6/site-packages (from protobuf>=3.8->verta) (49.2.1)\n",
      "Requirement already satisfied: six>=1.9 in /opt/app-root/lib/python3.6/site-packages (from protobuf>=3.8->verta) (1.15.0)\n",
      "\u001b[33mWARNING: You are using pip version 20.2; however, version 20.2.4 is available.\n",
      "You should consider upgrading via the '/opt/app-root/bin/python3.6 -m pip install --upgrade pip' command.\u001b[0m\n",
      "Requirement already satisfied: Minio in /opt/app-root/lib/python3.6/site-packages (6.0.0)\n",
      "Requirement already satisfied: configparser in /opt/app-root/lib/python3.6/site-packages (from Minio) (5.0.1)\n",
      "Requirement already satisfied: certifi in /opt/app-root/lib/python3.6/site-packages (from Minio) (2020.4.5.1)\n",
      "Requirement already satisfied: pytz in /opt/app-root/lib/python3.6/site-packages (from Minio) (2020.1)\n",
      "Requirement already satisfied: python-dateutil in /opt/app-root/lib/python3.6/site-packages (from Minio) (2.8.1)\n",
      "Requirement already satisfied: urllib3 in /opt/app-root/lib/python3.6/site-packages (from Minio) (1.25.10)\n",
      "Requirement already satisfied: six>=1.5 in /opt/app-root/lib/python3.6/site-packages (from python-dateutil->Minio) (1.15.0)\n",
      "\u001b[33mWARNING: You are using pip version 20.2; however, version 20.2.4 is available.\n",
      "You should consider upgrading via the '/opt/app-root/bin/python3.6 -m pip install --upgrade pip' command.\u001b[0m\n",
      "Requirement already satisfied: pandas in /opt/app-root/lib/python3.6/site-packages (0.25.3)\n",
      "Requirement already satisfied: numpy>=1.13.3 in /opt/app-root/lib/python3.6/site-packages (from pandas) (1.19.1)\n",
      "Requirement already satisfied: python-dateutil>=2.6.1 in /opt/app-root/lib/python3.6/site-packages (from pandas) (2.8.1)\n",
      "Requirement already satisfied: pytz>=2017.2 in /opt/app-root/lib/python3.6/site-packages (from pandas) (2020.1)\n",
      "Requirement already satisfied: six>=1.5 in /opt/app-root/lib/python3.6/site-packages (from python-dateutil>=2.6.1->pandas) (1.15.0)\n",
      "\u001b[33mWARNING: You are using pip version 20.2; however, version 20.2.4 is available.\n",
      "You should consider upgrading via the '/opt/app-root/bin/python3.6 -m pip install --upgrade pip' command.\u001b[0m\n"
     ]
    }
   ],
   "source": [
    "!pip install -U scikit-learn\n",
    "!pip install verta\n",
    "!pip install Minio\n",
    "!pip install pandas"
   ]
  },
  {
   "cell_type": "code",
   "execution_count": 68,
   "metadata": {
    "ExecuteTime": {
     "end_time": "2020-10-29T10:23:03.257447Z",
     "start_time": "2020-10-29T10:23:03.249383Z"
    },
    "code_folding": [
     17,
     25
    ]
   },
   "outputs": [],
   "source": [
    "import numpy as np\n",
    "import os\n",
    "from sklearn.linear_model import LogisticRegression\n",
    "from sklearn.pipeline import Pipeline\n",
    "import joblib\n",
    "from sklearn import datasets\n",
    "from sklearn.model_selection import train_test_split\n",
    "from sklearn.metrics import accuracy_score\n",
    "from datetime import datetime\n",
    "\n",
    "from minio import Minio\n",
    "from minio.error import ResponseError\n",
    "from datetime import datetime\n",
    "from sklearn.ensemble import RandomForestClassifier\n",
    "import pandas as pd\n",
    "import numpy as np\n",
    "\n",
    "from verta import Client\n",
    "# Common Functions - Will be supplied via package\n",
    "def get_s3_server():\n",
    "    minioClient = Minio('minio-ml-workshop:9000',\n",
    "                    access_key='minio',\n",
    "                    secret_key='minio123',\n",
    "                    secure=False)\n",
    "\n",
    "    return minioClient\n",
    "\n",
    "def record_metrics(classifier, expereiment_name, accuracy_score, hyperparameters):\n",
    "    client = Client(\"http://chart-1603715522-webapp:3000\")\n",
    "    proj = client.set_project(\"HDFC DEmo PRoject\")\n",
    "    client.set_experiment(\"Iris Classifier\")\n",
    "    run = client.set_experiment_run(expereiment_name)\n",
    "    \n",
    "    for key, value in hyperparameters.items():\n",
    "        run.log_hyperparameters({key : value})\n",
    "    run.log_metric('accuracy', accuracy_score)\n",
    "    run.log_tags([classifier])\n",
    "\n",
    "def visualise_iris_data(iris):\n",
    "    ''' 0 == setosa \n",
    "        1 == versicolor\n",
    "        2 == viginica '''\n",
    "    #     print(iris)\n",
    "    \n",
    "    df = pd.DataFrame(data=iris.data, columns=iris.feature_names)\n",
    "    print(df.describe())\n",
    "    df[\"target\"] = iris.target\n",
    "    print(df.head(500))"
   ]
  },
  {
   "cell_type": "code",
   "execution_count": 69,
   "metadata": {
    "ExecuteTime": {
     "end_time": "2020-10-29T10:23:03.425165Z",
     "start_time": "2020-10-29T10:23:03.422604Z"
    }
   },
   "outputs": [],
   "source": [
    "# Get Experiment ID\n",
    "dateTimeObj = datetime.now()\n",
    "timestampStr = dateTimeObj.strftime(\"%d%Y%H%M%S%f\")\n",
    "experiment_id = 'IrisScikit' + timestampStr\n"
   ]
  },
  {
   "cell_type": "code",
   "execution_count": 70,
   "metadata": {
    "ExecuteTime": {
     "end_time": "2020-10-29T10:23:03.720722Z",
     "start_time": "2020-10-29T10:23:03.716594Z"
    }
   },
   "outputs": [],
   "source": [
    "def train_and_save_model():\n",
    "#     model = LogisticRegression()\n",
    "    model = RandomForestClassifier(n_estimators=10)\n",
    "    \n",
    "    print('Training model...')\n",
    "    model.fit(X1, y1)\n",
    "    print('Model trained!')\n",
    "    \n",
    "    accuracy = model.score(X2, y2)\n",
    "    print(\"Accuracy: %.2f%%\" % (accuracy*100.0))   \n",
    "#     record_metrics('LogisticREgression', experiment_id, accuracy, {'regularisation': 0.5})\n",
    "    record_metrics('RandomForrests', experiment_id, accuracy, {'n_estimators': 10})                                   \n",
    "    \n",
    "\n",
    "    filename_p = 'IrisClassifier.sav'\n",
    "    print('Saving model in %s' % filename_p)\n",
    "    joblib.dump(model, filename_p)\n",
    "    print('Model saved!')"
   ]
  },
  {
   "cell_type": "code",
   "execution_count": 71,
   "metadata": {
    "ExecuteTime": {
     "end_time": "2020-10-29T10:23:04.500241Z",
     "start_time": "2020-10-29T10:23:04.473786Z"
    }
   },
   "outputs": [
    {
     "name": "stdout",
     "output_type": "stream",
     "text": [
      "Loading iris data set...\n",
      "Dataset loaded!\n",
      "       sepal length (cm)  sepal width (cm)  petal length (cm)  \\\n",
      "count         150.000000        150.000000         150.000000   \n",
      "mean            5.843333          3.057333           3.758000   \n",
      "std             0.828066          0.435866           1.765298   \n",
      "min             4.300000          2.000000           1.000000   \n",
      "25%             5.100000          2.800000           1.600000   \n",
      "50%             5.800000          3.000000           4.350000   \n",
      "75%             6.400000          3.300000           5.100000   \n",
      "max             7.900000          4.400000           6.900000   \n",
      "\n",
      "       petal width (cm)  \n",
      "count        150.000000  \n",
      "mean           1.199333  \n",
      "std            0.762238  \n",
      "min            0.100000  \n",
      "25%            0.300000  \n",
      "50%            1.300000  \n",
      "75%            1.800000  \n",
      "max            2.500000  \n",
      "     sepal length (cm)  sepal width (cm)  petal length (cm)  petal width (cm)  \\\n",
      "0                  5.1               3.5                1.4               0.2   \n",
      "1                  4.9               3.0                1.4               0.2   \n",
      "2                  4.7               3.2                1.3               0.2   \n",
      "3                  4.6               3.1                1.5               0.2   \n",
      "4                  5.0               3.6                1.4               0.2   \n",
      "..                 ...               ...                ...               ...   \n",
      "145                6.7               3.0                5.2               2.3   \n",
      "146                6.3               2.5                5.0               1.9   \n",
      "147                6.5               3.0                5.2               2.0   \n",
      "148                6.2               3.4                5.4               2.3   \n",
      "149                5.9               3.0                5.1               1.8   \n",
      "\n",
      "     target  \n",
      "0         0  \n",
      "1         0  \n",
      "2         0  \n",
      "3         0  \n",
      "4         0  \n",
      "..      ...  \n",
      "145       2  \n",
      "146       2  \n",
      "147       2  \n",
      "148       2  \n",
      "149       2  \n",
      "\n",
      "[150 rows x 5 columns]\n"
     ]
    }
   ],
   "source": [
    "# if __name__ == \"__main__\":\n",
    "print('Loading iris data set...')\n",
    "iris = datasets.load_iris()\n",
    "X, y = iris.data, iris.target\n",
    "X1, X2, y1, y2 = train_test_split(X, y, random_state=0, train_size=0.6)\n",
    "print('Dataset loaded!')\n",
    "visualise_iris_data(iris)\n",
    "#train_and_save_model()"
   ]
  },
  {
   "cell_type": "code",
   "execution_count": 6,
   "metadata": {
    "ExecuteTime": {
     "end_time": "2020-10-29T08:35:13.961324Z",
     "start_time": "2020-10-29T08:35:13.944230Z"
    },
    "code_folding": []
   },
   "outputs": [
    {
     "data": {
      "text/plain": [
       "('2401ccb188dc043ebf98ab59c43c3d1f', None)"
      ]
     },
     "execution_count": 6,
     "metadata": {},
     "output_type": "execute_result"
    }
   ],
   "source": [
    "minioClient = get_s3_server()\n",
    "minioClient.fput_object(bucket_name='models', object_name=experiment_id  +'/IrisClassifier.sav' , file_path='./IrisClassifier.sav')"
   ]
  },
  {
   "cell_type": "code",
   "execution_count": null,
   "metadata": {},
   "outputs": [],
   "source": []
  }
 ],
 "metadata": {
  "kernelspec": {
   "display_name": "Python 3",
   "language": "python",
   "name": "python3"
  },
  "language_info": {
   "codemirror_mode": {
    "name": "ipython",
    "version": 3
   },
   "file_extension": ".py",
   "mimetype": "text/x-python",
   "name": "python",
   "nbconvert_exporter": "python",
   "pygments_lexer": "ipython3",
   "version": "3.6.8"
  },
  "toc": {
   "base_numbering": 1,
   "nav_menu": {},
   "number_sections": true,
   "sideBar": true,
   "skip_h1_title": false,
   "title_cell": "Table of Contents",
   "title_sidebar": "Contents",
   "toc_cell": false,
   "toc_position": {},
   "toc_section_display": true,
   "toc_window_display": false
  }
 },
 "nbformat": 4,
 "nbformat_minor": 4
}
