{
 "cells": [
  {
   "cell_type": "code",
   "execution_count": 1,
   "metadata": {
    "ExecuteTime": {
     "end_time": "2020-10-29T10:09:21.980825Z",
     "start_time": "2020-10-29T10:09:13.830655Z"
    }
   },
   "outputs": [
    {
     "name": "stdout",
     "output_type": "stream",
     "text": [
      "Requirement already up-to-date: scikit-learn in /Users/faisalmasood/.pyenv/versions/3.7.5/lib/python3.7/site-packages (0.23.2)\n",
      "Requirement already satisfied, skipping upgrade: joblib>=0.11 in /Users/faisalmasood/.pyenv/versions/3.7.5/lib/python3.7/site-packages (from scikit-learn) (0.14.1)\n",
      "Requirement already satisfied, skipping upgrade: scipy>=0.19.1 in /Users/faisalmasood/.pyenv/versions/3.7.5/lib/python3.7/site-packages (from scikit-learn) (1.4.1)\n",
      "Requirement already satisfied, skipping upgrade: numpy>=1.13.3 in /Users/faisalmasood/.pyenv/versions/3.7.5/lib/python3.7/site-packages (from scikit-learn) (1.19.0)\n",
      "Requirement already satisfied, skipping upgrade: threadpoolctl>=2.0.0 in /Users/faisalmasood/.pyenv/versions/3.7.5/lib/python3.7/site-packages (from scikit-learn) (2.1.0)\n",
      "Requirement already satisfied: verta in /Users/faisalmasood/.pyenv/versions/3.7.5/lib/python3.7/site-packages (0.15.6)\n",
      "Requirement already satisfied: cloudpickle in /Users/faisalmasood/.pyenv/versions/3.7.5/lib/python3.7/site-packages (from verta) (1.5.0)\n",
      "Requirement already satisfied: click in /Users/faisalmasood/.pyenv/versions/3.7.5/lib/python3.7/site-packages (from verta) (7.1.2)\n",
      "Requirement already satisfied: pyyaml>=5.1 in /Users/faisalmasood/.pyenv/versions/3.7.5/lib/python3.7/site-packages (from verta) (5.3.1)\n",
      "Requirement already satisfied: protobuf>=3.8 in /Users/faisalmasood/.pyenv/versions/3.7.5/lib/python3.7/site-packages (from verta) (3.12.2)\n",
      "Requirement already satisfied: pathlib2>=2.2 in /Users/faisalmasood/.pyenv/versions/3.7.5/lib/python3.7/site-packages (from verta) (2.3.5)\n",
      "Requirement already satisfied: googleapis-common-protos>=1.5 in /Users/faisalmasood/.pyenv/versions/3.7.5/lib/python3.7/site-packages (from verta) (1.52.0)\n",
      "Requirement already satisfied: requests<3.0,>=2.21 in /Users/faisalmasood/.pyenv/versions/3.7.5/lib/python3.7/site-packages (from verta) (2.24.0)\n",
      "Requirement already satisfied: six>=1.9 in /Users/faisalmasood/.pyenv/versions/3.7.5/lib/python3.7/site-packages (from protobuf>=3.8->verta) (1.15.0)\n",
      "Requirement already satisfied: setuptools in /Users/faisalmasood/.pyenv/versions/3.7.5/lib/python3.7/site-packages (from protobuf>=3.8->verta) (41.2.0)\n",
      "Requirement already satisfied: urllib3!=1.25.0,!=1.25.1,<1.26,>=1.21.1 in /Users/faisalmasood/.pyenv/versions/3.7.5/lib/python3.7/site-packages (from requests<3.0,>=2.21->verta) (1.25.9)\n",
      "Requirement already satisfied: idna<3,>=2.5 in /Users/faisalmasood/.pyenv/versions/3.7.5/lib/python3.7/site-packages (from requests<3.0,>=2.21->verta) (2.10)\n",
      "Requirement already satisfied: chardet<4,>=3.0.2 in /Users/faisalmasood/.pyenv/versions/3.7.5/lib/python3.7/site-packages (from requests<3.0,>=2.21->verta) (3.0.4)\n",
      "Requirement already satisfied: certifi>=2017.4.17 in /Users/faisalmasood/.pyenv/versions/3.7.5/lib/python3.7/site-packages (from requests<3.0,>=2.21->verta) (2020.6.20)\n",
      "Requirement already satisfied: Minio in /Users/faisalmasood/.pyenv/versions/3.7.5/lib/python3.7/site-packages (6.0.0)\n",
      "Requirement already satisfied: urllib3 in /Users/faisalmasood/.pyenv/versions/3.7.5/lib/python3.7/site-packages (from Minio) (1.25.9)\n",
      "Requirement already satisfied: pytz in /Users/faisalmasood/.pyenv/versions/3.7.5/lib/python3.7/site-packages (from Minio) (2020.1)\n",
      "Requirement already satisfied: python-dateutil in /Users/faisalmasood/.pyenv/versions/3.7.5/lib/python3.7/site-packages (from Minio) (2.8.1)\n",
      "Requirement already satisfied: configparser in /Users/faisalmasood/.pyenv/versions/3.7.5/lib/python3.7/site-packages (from Minio) (5.0.1)\n",
      "Requirement already satisfied: certifi in /Users/faisalmasood/.pyenv/versions/3.7.5/lib/python3.7/site-packages (from Minio) (2020.6.20)\n",
      "Requirement already satisfied: six>=1.5 in /Users/faisalmasood/.pyenv/versions/3.7.5/lib/python3.7/site-packages (from python-dateutil->Minio) (1.15.0)\n",
      "Requirement already satisfied: pandas in /Users/faisalmasood/.pyenv/versions/3.7.5/lib/python3.7/site-packages (1.1.1)\n",
      "Requirement already satisfied: pytz>=2017.2 in /Users/faisalmasood/.pyenv/versions/3.7.5/lib/python3.7/site-packages (from pandas) (2020.1)\n",
      "Requirement already satisfied: numpy>=1.15.4 in /Users/faisalmasood/.pyenv/versions/3.7.5/lib/python3.7/site-packages (from pandas) (1.19.0)\n",
      "Requirement already satisfied: python-dateutil>=2.7.3 in /Users/faisalmasood/.pyenv/versions/3.7.5/lib/python3.7/site-packages (from pandas) (2.8.1)\n",
      "Requirement already satisfied: six>=1.5 in /Users/faisalmasood/.pyenv/versions/3.7.5/lib/python3.7/site-packages (from python-dateutil>=2.7.3->pandas) (1.15.0)\n",
      "Requirement already satisfied: alibi in /Users/faisalmasood/.pyenv/versions/3.7.5/lib/python3.7/site-packages (0.5.5)\n",
      "Requirement already satisfied: requests in /Users/faisalmasood/.pyenv/versions/3.7.5/lib/python3.7/site-packages (from alibi) (2.24.0)\n",
      "Requirement already satisfied: scikit-image!=0.17.1 in /Users/faisalmasood/.pyenv/versions/3.7.5/lib/python3.7/site-packages (from alibi) (0.17.2)\n",
      "Requirement already satisfied: spacy[lookups] in /Users/faisalmasood/.pyenv/versions/3.7.5/lib/python3.7/site-packages (from alibi) (2.3.2)\n",
      "Requirement already satisfied: matplotlib in /Users/faisalmasood/.pyenv/versions/3.7.5/lib/python3.7/site-packages (from alibi) (3.3.1)\n",
      "Requirement already satisfied: attrs in /Users/faisalmasood/.pyenv/versions/3.7.5/lib/python3.7/site-packages (from alibi) (19.3.0)\n",
      "Requirement already satisfied: shap>=0.36 in /Users/faisalmasood/.pyenv/versions/3.7.5/lib/python3.7/site-packages (from alibi) (0.36.0)\n",
      "Requirement already satisfied: scikit-learn in /Users/faisalmasood/.pyenv/versions/3.7.5/lib/python3.7/site-packages (from alibi) (0.23.2)\n",
      "Requirement already satisfied: scipy in /Users/faisalmasood/.pyenv/versions/3.7.5/lib/python3.7/site-packages (from alibi) (1.4.1)\n",
      "Requirement already satisfied: beautifulsoup4 in /Users/faisalmasood/.pyenv/versions/3.7.5/lib/python3.7/site-packages (from alibi) (4.9.3)\n",
      "Requirement already satisfied: typing-extensions>=3.7.2 in /Users/faisalmasood/.pyenv/versions/3.7.5/lib/python3.7/site-packages (from alibi) (3.7.4.2)\n",
      "Requirement already satisfied: pandas in /Users/faisalmasood/.pyenv/versions/3.7.5/lib/python3.7/site-packages (from alibi) (1.1.1)\n",
      "Requirement already satisfied: numpy in /Users/faisalmasood/.pyenv/versions/3.7.5/lib/python3.7/site-packages (from alibi) (1.19.0)\n",
      "Requirement already satisfied: tensorflow>=2.0 in /Users/faisalmasood/.pyenv/versions/3.7.5/lib/python3.7/site-packages (from alibi) (2.2.0)\n",
      "Requirement already satisfied: Pillow in /Users/faisalmasood/.pyenv/versions/3.7.5/lib/python3.7/site-packages (from alibi) (7.2.0)\n",
      "Requirement already satisfied: chardet<4,>=3.0.2 in /Users/faisalmasood/.pyenv/versions/3.7.5/lib/python3.7/site-packages (from requests->alibi) (3.0.4)\n",
      "Requirement already satisfied: urllib3!=1.25.0,!=1.25.1,<1.26,>=1.21.1 in /Users/faisalmasood/.pyenv/versions/3.7.5/lib/python3.7/site-packages (from requests->alibi) (1.25.9)\n",
      "Requirement already satisfied: idna<3,>=2.5 in /Users/faisalmasood/.pyenv/versions/3.7.5/lib/python3.7/site-packages (from requests->alibi) (2.10)\n",
      "Requirement already satisfied: certifi>=2017.4.17 in /Users/faisalmasood/.pyenv/versions/3.7.5/lib/python3.7/site-packages (from requests->alibi) (2020.6.20)\n",
      "Requirement already satisfied: networkx>=2.0 in /Users/faisalmasood/.pyenv/versions/3.7.5/lib/python3.7/site-packages (from scikit-image!=0.17.1->alibi) (2.5)\n",
      "Requirement already satisfied: tifffile>=2019.7.26 in /Users/faisalmasood/.pyenv/versions/3.7.5/lib/python3.7/site-packages (from scikit-image!=0.17.1->alibi) (2020.10.1)\n",
      "Requirement already satisfied: imageio>=2.3.0 in /Users/faisalmasood/.pyenv/versions/3.7.5/lib/python3.7/site-packages (from scikit-image!=0.17.1->alibi) (2.9.0)\n",
      "Requirement already satisfied: PyWavelets>=1.1.1 in /Users/faisalmasood/.pyenv/versions/3.7.5/lib/python3.7/site-packages (from scikit-image!=0.17.1->alibi) (1.1.1)\n",
      "Requirement already satisfied: murmurhash<1.1.0,>=0.28.0 in /Users/faisalmasood/.pyenv/versions/3.7.5/lib/python3.7/site-packages (from spacy[lookups]->alibi) (1.0.2)\n",
      "Requirement already satisfied: tqdm<5.0.0,>=4.38.0 in /Users/faisalmasood/.pyenv/versions/3.7.5/lib/python3.7/site-packages (from spacy[lookups]->alibi) (4.47.0)\n"
     ]
    },
    {
     "name": "stdout",
     "output_type": "stream",
     "text": [
      "Requirement already satisfied: blis<0.5.0,>=0.4.0 in /Users/faisalmasood/.pyenv/versions/3.7.5/lib/python3.7/site-packages (from spacy[lookups]->alibi) (0.4.1)\n",
      "Requirement already satisfied: wasabi<1.1.0,>=0.4.0 in /Users/faisalmasood/.pyenv/versions/3.7.5/lib/python3.7/site-packages (from spacy[lookups]->alibi) (0.8.0)\n",
      "Requirement already satisfied: plac<1.2.0,>=0.9.6 in /Users/faisalmasood/.pyenv/versions/3.7.5/lib/python3.7/site-packages (from spacy[lookups]->alibi) (1.1.3)\n",
      "Requirement already satisfied: thinc==7.4.1 in /Users/faisalmasood/.pyenv/versions/3.7.5/lib/python3.7/site-packages (from spacy[lookups]->alibi) (7.4.1)\n",
      "Requirement already satisfied: setuptools in /Users/faisalmasood/.pyenv/versions/3.7.5/lib/python3.7/site-packages (from spacy[lookups]->alibi) (41.2.0)\n",
      "Requirement already satisfied: cymem<2.1.0,>=2.0.2 in /Users/faisalmasood/.pyenv/versions/3.7.5/lib/python3.7/site-packages (from spacy[lookups]->alibi) (2.0.3)\n",
      "Requirement already satisfied: catalogue<1.1.0,>=0.0.7 in /Users/faisalmasood/.pyenv/versions/3.7.5/lib/python3.7/site-packages (from spacy[lookups]->alibi) (1.0.0)\n",
      "Requirement already satisfied: preshed<3.1.0,>=3.0.2 in /Users/faisalmasood/.pyenv/versions/3.7.5/lib/python3.7/site-packages (from spacy[lookups]->alibi) (3.0.2)\n",
      "Requirement already satisfied: srsly<1.1.0,>=1.0.2 in /Users/faisalmasood/.pyenv/versions/3.7.5/lib/python3.7/site-packages (from spacy[lookups]->alibi) (1.0.2)\n",
      "Requirement already satisfied: spacy-lookups-data<0.4.0,>=0.3.2; extra == \"lookups\" in /Users/faisalmasood/.pyenv/versions/3.7.5/lib/python3.7/site-packages (from spacy[lookups]->alibi) (0.3.2)\n",
      "Requirement already satisfied: kiwisolver>=1.0.1 in /Users/faisalmasood/.pyenv/versions/3.7.5/lib/python3.7/site-packages (from matplotlib->alibi) (1.2.0)\n",
      "Requirement already satisfied: python-dateutil>=2.1 in /Users/faisalmasood/.pyenv/versions/3.7.5/lib/python3.7/site-packages (from matplotlib->alibi) (2.8.1)\n",
      "Requirement already satisfied: cycler>=0.10 in /Users/faisalmasood/.pyenv/versions/3.7.5/lib/python3.7/site-packages (from matplotlib->alibi) (0.10.0)\n",
      "Requirement already satisfied: pyparsing!=2.0.4,!=2.1.2,!=2.1.6,>=2.0.3 in /Users/faisalmasood/.pyenv/versions/3.7.5/lib/python3.7/site-packages (from matplotlib->alibi) (2.4.7)\n",
      "Requirement already satisfied: slicer in /Users/faisalmasood/.pyenv/versions/3.7.5/lib/python3.7/site-packages (from shap>=0.36->alibi) (0.0.4)\n",
      "Requirement already satisfied: numba in /Users/faisalmasood/.pyenv/versions/3.7.5/lib/python3.7/site-packages (from shap>=0.36->alibi) (0.51.2)\n",
      "Requirement already satisfied: threadpoolctl>=2.0.0 in /Users/faisalmasood/.pyenv/versions/3.7.5/lib/python3.7/site-packages (from scikit-learn->alibi) (2.1.0)\n",
      "Requirement already satisfied: joblib>=0.11 in /Users/faisalmasood/.pyenv/versions/3.7.5/lib/python3.7/site-packages (from scikit-learn->alibi) (0.14.1)\n",
      "Requirement already satisfied: soupsieve>1.2; python_version >= \"3.0\" in /Users/faisalmasood/.pyenv/versions/3.7.5/lib/python3.7/site-packages (from beautifulsoup4->alibi) (2.0.1)\n",
      "Requirement already satisfied: pytz>=2017.2 in /Users/faisalmasood/.pyenv/versions/3.7.5/lib/python3.7/site-packages (from pandas->alibi) (2020.1)\n",
      "Requirement already satisfied: astunparse==1.6.3 in /Users/faisalmasood/.pyenv/versions/3.7.5/lib/python3.7/site-packages (from tensorflow>=2.0->alibi) (1.6.3)\n",
      "Requirement already satisfied: tensorflow-estimator<2.3.0,>=2.2.0 in /Users/faisalmasood/.pyenv/versions/3.7.5/lib/python3.7/site-packages (from tensorflow>=2.0->alibi) (2.2.0)\n",
      "Requirement already satisfied: gast==0.3.3 in /Users/faisalmasood/.pyenv/versions/3.7.5/lib/python3.7/site-packages (from tensorflow>=2.0->alibi) (0.3.3)\n",
      "Requirement already satisfied: wheel>=0.26; python_version >= \"3\" in /Users/faisalmasood/.pyenv/versions/3.7.5/lib/python3.7/site-packages (from tensorflow>=2.0->alibi) (0.34.2)\n",
      "Requirement already satisfied: termcolor>=1.1.0 in /Users/faisalmasood/.pyenv/versions/3.7.5/lib/python3.7/site-packages (from tensorflow>=2.0->alibi) (1.1.0)\n",
      "Requirement already satisfied: opt-einsum>=2.3.2 in /Users/faisalmasood/.pyenv/versions/3.7.5/lib/python3.7/site-packages (from tensorflow>=2.0->alibi) (3.2.1)\n",
      "Requirement already satisfied: tensorboard<2.3.0,>=2.2.0 in /Users/faisalmasood/.pyenv/versions/3.7.5/lib/python3.7/site-packages (from tensorflow>=2.0->alibi) (2.2.2)\n",
      "Requirement already satisfied: keras-preprocessing>=1.1.0 in /Users/faisalmasood/.pyenv/versions/3.7.5/lib/python3.7/site-packages (from tensorflow>=2.0->alibi) (1.1.2)\n",
      "Requirement already satisfied: absl-py>=0.7.0 in /Users/faisalmasood/.pyenv/versions/3.7.5/lib/python3.7/site-packages (from tensorflow>=2.0->alibi) (0.8.1)\n",
      "Requirement already satisfied: protobuf>=3.8.0 in /Users/faisalmasood/.pyenv/versions/3.7.5/lib/python3.7/site-packages (from tensorflow>=2.0->alibi) (3.12.2)\n",
      "Requirement already satisfied: grpcio>=1.8.6 in /Users/faisalmasood/.pyenv/versions/3.7.5/lib/python3.7/site-packages (from tensorflow>=2.0->alibi) (1.30.0)\n",
      "Requirement already satisfied: six>=1.12.0 in /Users/faisalmasood/.pyenv/versions/3.7.5/lib/python3.7/site-packages (from tensorflow>=2.0->alibi) (1.15.0)\n",
      "Requirement already satisfied: h5py<2.11.0,>=2.10.0 in /Users/faisalmasood/.pyenv/versions/3.7.5/lib/python3.7/site-packages (from tensorflow>=2.0->alibi) (2.10.0)\n",
      "Requirement already satisfied: wrapt>=1.11.1 in /Users/faisalmasood/.pyenv/versions/3.7.5/lib/python3.7/site-packages (from tensorflow>=2.0->alibi) (1.12.1)\n",
      "Requirement already satisfied: google-pasta>=0.1.8 in /Users/faisalmasood/.pyenv/versions/3.7.5/lib/python3.7/site-packages (from tensorflow>=2.0->alibi) (0.2.0)\n",
      "Requirement already satisfied: decorator>=4.3.0 in /Users/faisalmasood/.pyenv/versions/3.7.5/lib/python3.7/site-packages (from networkx>=2.0->scikit-image!=0.17.1->alibi) (4.4.2)\n",
      "Requirement already satisfied: importlib-metadata>=0.20; python_version < \"3.8\" in /Users/faisalmasood/.pyenv/versions/3.7.5/lib/python3.7/site-packages (from catalogue<1.1.0,>=0.0.7->spacy[lookups]->alibi) (1.7.0)\n",
      "Requirement already satisfied: llvmlite<0.35,>=0.34.0.dev0 in /Users/faisalmasood/.pyenv/versions/3.7.5/lib/python3.7/site-packages (from numba->shap>=0.36->alibi) (0.34.0)\n",
      "Requirement already satisfied: tensorboard-plugin-wit>=1.6.0 in /Users/faisalmasood/.pyenv/versions/3.7.5/lib/python3.7/site-packages (from tensorboard<2.3.0,>=2.2.0->tensorflow>=2.0->alibi) (1.7.0)\n",
      "Requirement already satisfied: werkzeug>=0.11.15 in /Users/faisalmasood/.pyenv/versions/3.7.5/lib/python3.7/site-packages (from tensorboard<2.3.0,>=2.2.0->tensorflow>=2.0->alibi) (1.0.1)\n",
      "Requirement already satisfied: google-auth<2,>=1.6.3 in /Users/faisalmasood/.pyenv/versions/3.7.5/lib/python3.7/site-packages (from tensorboard<2.3.0,>=2.2.0->tensorflow>=2.0->alibi) (1.18.0)\n",
      "Requirement already satisfied: markdown>=2.6.8 in /Users/faisalmasood/.pyenv/versions/3.7.5/lib/python3.7/site-packages (from tensorboard<2.3.0,>=2.2.0->tensorflow>=2.0->alibi) (3.2.2)\n",
      "Requirement already satisfied: google-auth-oauthlib<0.5,>=0.4.1 in /Users/faisalmasood/.pyenv/versions/3.7.5/lib/python3.7/site-packages (from tensorboard<2.3.0,>=2.2.0->tensorflow>=2.0->alibi) (0.4.1)\n",
      "Requirement already satisfied: zipp>=0.5 in /Users/faisalmasood/.pyenv/versions/3.7.5/lib/python3.7/site-packages (from importlib-metadata>=0.20; python_version < \"3.8\"->catalogue<1.1.0,>=0.0.7->spacy[lookups]->alibi) (3.1.0)\n",
      "Requirement already satisfied: pyasn1-modules>=0.2.1 in /Users/faisalmasood/.pyenv/versions/3.7.5/lib/python3.7/site-packages (from google-auth<2,>=1.6.3->tensorboard<2.3.0,>=2.2.0->tensorflow>=2.0->alibi) (0.2.8)\n",
      "Requirement already satisfied: rsa<5,>=3.1.4; python_version >= \"3\" in /Users/faisalmasood/.pyenv/versions/3.7.5/lib/python3.7/site-packages (from google-auth<2,>=1.6.3->tensorboard<2.3.0,>=2.2.0->tensorflow>=2.0->alibi) (4.6)\n",
      "Requirement already satisfied: cachetools<5.0,>=2.0.0 in /Users/faisalmasood/.pyenv/versions/3.7.5/lib/python3.7/site-packages (from google-auth<2,>=1.6.3->tensorboard<2.3.0,>=2.2.0->tensorflow>=2.0->alibi) (3.1.1)\n",
      "Requirement already satisfied: requests-oauthlib>=0.7.0 in /Users/faisalmasood/.pyenv/versions/3.7.5/lib/python3.7/site-packages (from google-auth-oauthlib<0.5,>=0.4.1->tensorboard<2.3.0,>=2.2.0->tensorflow>=2.0->alibi) (1.3.0)\n",
      "Requirement already satisfied: pyasn1<0.5.0,>=0.4.6 in /Users/faisalmasood/.pyenv/versions/3.7.5/lib/python3.7/site-packages (from pyasn1-modules>=0.2.1->google-auth<2,>=1.6.3->tensorboard<2.3.0,>=2.2.0->tensorflow>=2.0->alibi) (0.4.8)\n",
      "Requirement already satisfied: oauthlib>=3.0.0 in /Users/faisalmasood/.pyenv/versions/3.7.5/lib/python3.7/site-packages (from requests-oauthlib>=0.7.0->google-auth-oauthlib<0.5,>=0.4.1->tensorboard<2.3.0,>=2.2.0->tensorflow>=2.0->alibi) (3.1.0)\n"
     ]
    },
    {
     "name": "stdout",
     "output_type": "stream",
     "text": [
      "Requirement already satisfied: dill in /Users/faisalmasood/.pyenv/versions/3.7.5/lib/python3.7/site-packages (0.3.1.1)\r\n"
     ]
    }
   ],
   "source": [
    "!pip install -U scikit-learn\n",
    "!pip install verta\n",
    "!pip install Minio\n",
    "!pip install pandas\n",
    "!pip install alibi\n",
    "!pip install dill"
   ]
  },
  {
   "cell_type": "code",
   "execution_count": 7,
   "metadata": {
    "ExecuteTime": {
     "end_time": "2020-10-29T10:23:03.257447Z",
     "start_time": "2020-10-29T10:23:03.249383Z"
    },
    "code_folding": [
     17,
     25
    ]
   },
   "outputs": [],
   "source": [
    "import numpy as np\n",
    "import os\n",
    "from sklearn.linear_model import LogisticRegression\n",
    "from sklearn.pipeline import Pipeline\n",
    "import joblib\n",
    "from sklearn import datasets\n",
    "from sklearn.model_selection import train_test_split\n",
    "from sklearn.metrics import accuracy_score\n",
    "from datetime import datetime\n",
    "\n",
    "from minio import Minio\n",
    "from minio.error import ResponseError\n",
    "from datetime import datetime\n",
    "from sklearn.ensemble import RandomForestClassifier\n",
    "import pandas as pd\n",
    "import numpy as np\n",
    "\n",
    "from verta import Client\n",
    "import dill\n",
    "\n",
    "\n",
    "from alibi.explainers import AnchorTabular\n",
    "\n",
    "# Common Functions - Will be supplied via package\n",
    "def get_s3_server():\n",
    "    minioClient = Minio('minio-ml-workshop:9000',\n",
    "                    access_key='minio',\n",
    "                    secret_key='minio123',\n",
    "                    secure=False)\n",
    "\n",
    "    return minioClient\n",
    "\n",
    "def record_metrics(classifier, expereiment_name, accuracy_score, hyperparameters):\n",
    "    client = Client(\"http://chart-1603715522-webapp:3000\")\n",
    "    proj = client.set_project(\"HDFC DEmo PRoject\")\n",
    "    client.set_experiment(\"Iris Classifier\")\n",
    "    run = client.set_experiment_run(expereiment_name)\n",
    "    \n",
    "    for key, value in hyperparameters.items():\n",
    "        run.log_hyperparameters({key : value})\n",
    "    \n",
    "    run.log_metric('accuracy', accuracy_score)\n",
    "    run.log_tags([classifier])\n",
    "\n",
    "def visualise_iris_data(iris):\n",
    "    ''' 0 == setosa \n",
    "        1 == versicolor\n",
    "        2 == viginica '''\n",
    "    #     print(iris)\n",
    "    \n",
    "    df = pd.DataFrame(data=iris.data, columns=iris.feature_names)\n",
    "    print(df.describe())\n",
    "    df[\"target\"] = iris.target\n",
    "    print(df.head(500))"
   ]
  },
  {
   "cell_type": "code",
   "execution_count": 8,
   "metadata": {
    "ExecuteTime": {
     "end_time": "2020-10-29T10:23:03.425165Z",
     "start_time": "2020-10-29T10:23:03.422604Z"
    }
   },
   "outputs": [],
   "source": [
    "# Get Experiment ID\n",
    "dateTimeObj = datetime.now()\n",
    "timestampStr = dateTimeObj.strftime(\"%d%Y%H%M%S%f\")\n",
    "experiment_id = 'IrisScikit' + timestampStr\n"
   ]
  },
  {
   "cell_type": "code",
   "execution_count": 9,
   "metadata": {
    "ExecuteTime": {
     "end_time": "2020-10-29T10:23:03.720722Z",
     "start_time": "2020-10-29T10:23:03.716594Z"
    }
   },
   "outputs": [],
   "source": [
    "def train_and_save_model():\n",
    "#     model = LogisticRegression()\n",
    "    model = RandomForestClassifier(n_estimators=10)\n",
    "    \n",
    "    print('Training model...')\n",
    "    model.fit(X1, y1)\n",
    "    print('Model trained!')\n",
    "    \n",
    "    accuracy = model.score(X2, y2)\n",
    "    print(\"Accuracy: %.2f%%\" % (accuracy*100.0))   \n",
    "#     record_metrics('LogisticREgression', experiment_id, accuracy, {'regularisation': 0.5})\n",
    "    # record_metrics('RandomForrests', experiment_id, accuracy, {'n_estimators': 10})                                   \n",
    "    \n",
    "\n",
    "    filename_p = 'IrisClassifier.sav'\n",
    "    print('Saving model in %s' % filename_p)\n",
    "    joblib.dump(model, filename_p)\n",
    "    print('Model saved!')\n",
    "    return model"
   ]
  },
  {
   "cell_type": "code",
   "execution_count": 10,
   "metadata": {},
   "outputs": [],
   "source": [
    "def explain_model(feature_names, model, X_train, X_test_record):\n",
    "    predict_fn = lambda x: model.predict_proba(x)\n",
    "    explainer = AnchorTabular(predict_fn, feature_names)\n",
    "    explainer.fit(X_train, disc_perc=[25, 50, 75])\n",
    "    explanation = explainer.explain(X_test_record, threshold=0.80)\n",
    "    print('Anchor: %s' % explanation['anchor'])\n",
    "    print('Precision: %.2f' % explanation['precision'])\n",
    "    print('Coverage: %.2f' % explanation['coverage'])\n",
    "    return explainer"
   ]
  },
  {
   "cell_type": "code",
   "execution_count": 13,
   "metadata": {
    "ExecuteTime": {
     "end_time": "2020-10-29T10:23:04.500241Z",
     "start_time": "2020-10-29T10:23:04.473786Z"
    }
   },
   "outputs": [
    {
     "name": "stdout",
     "output_type": "stream",
     "text": [
      "Loading iris data set...\n",
      "Dataset loaded!\n",
      "Training model...\n",
      "Model trained!\n",
      "Accuracy: 93.33%\n",
      "Saving model in IrisClassifier.sav\n",
      "Model saved!\n",
      "Anchor: ['petal width (cm) > 1.90', 'petal length (cm) > 4.15']\n",
      "Precision: 0.97\n",
      "Coverage: 0.50\n"
     ]
    },
    {
     "name": "stderr",
     "output_type": "stream",
     "text": [
      "The Explanation object is not a dictionary anymore and accessing elements should be done via attribute access. Accessing via item will stop working in a future version.\n",
      "The Explanation object is not a dictionary anymore and accessing elements should be done via attribute access. Accessing via item will stop working in a future version.\n",
      "The Explanation object is not a dictionary anymore and accessing elements should be done via attribute access. Accessing via item will stop working in a future version.\n"
     ]
    }
   ],
   "source": [
    "# if __name__ == \"__main__\":\n",
    "print('Loading iris data set...')\n",
    "iris = datasets.load_iris()\n",
    "feature_names = iris.feature_names\n",
    "X, y = iris.data, iris.target\n",
    "X1, X2, y1, y2 = train_test_split(X, y, random_state=0, train_size=0.6)\n",
    "print('Dataset loaded!')\n",
    "model = train_and_save_model()\n",
    "explainer = explain_model(feature_names, model, X1, X2[0])\n",
    "with open(\"IrisClassifierExapliner.dill\", \"wb\") as x_f:\n",
    "    dill.dump(explainer, x_f)"
   ]
  },
  {
   "cell_type": "code",
   "execution_count": null,
   "metadata": {
    "ExecuteTime": {
     "end_time": "2020-10-29T08:35:13.961324Z",
     "start_time": "2020-10-29T08:35:13.944230Z"
    },
    "code_folding": []
   },
   "outputs": [],
   "source": [
    "minioClient = get_s3_server()\n",
    "minioClient.fput_object(bucket_name='models', object_name=experiment_id  +'/IrisClassifier.sav' , file_path='./IrisClassifier.sav')"
   ]
  },
  {
   "cell_type": "code",
   "execution_count": null,
   "metadata": {},
   "outputs": [],
   "source": []
  }
 ],
 "metadata": {
  "kernelspec": {
   "display_name": "Python 3",
   "language": "python",
   "name": "python3"
  },
  "language_info": {
   "codemirror_mode": {
    "name": "ipython",
    "version": 3
   },
   "file_extension": ".py",
   "mimetype": "text/x-python",
   "name": "python",
   "nbconvert_exporter": "python",
   "pygments_lexer": "ipython3",
   "version": "3.7.5"
  },
  "toc": {
   "base_numbering": 1,
   "nav_menu": {},
   "number_sections": true,
   "sideBar": true,
   "skip_h1_title": false,
   "title_cell": "Table of Contents",
   "title_sidebar": "Contents",
   "toc_cell": false,
   "toc_position": {},
   "toc_section_display": true,
   "toc_window_display": false
  }
 },
 "nbformat": 4,
 "nbformat_minor": 4
}
